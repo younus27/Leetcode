{
 "cells": [
  {
   "cell_type": "raw",
   "metadata": {},
   "source": []
  },
  {
   "cell_type": "raw",
   "metadata": {},
   "source": [
    "Total Problem solved : 12"
   ]
  },
  {
   "cell_type": "raw",
   "metadata": {},
   "source": [
    "Date: 2-3-2021                                                                                              Problem solved : 7"
   ]
  },
  {
   "cell_type": "markdown",
   "metadata": {},
   "source": [
    "### 1742. Maximum Number of Balls in a Box"
   ]
  },
  {
   "cell_type": "raw",
   "metadata": {},
   "source": [
    "You are working in a ball factory where you have n balls numbered from lowLimit up to highLimit inclusive (i.e., n == highLimit - lowLimit + 1), and an infinite number of boxes numbered from 1 to infinity.\n",
    "\n",
    "Your job at this factory is to put each ball in the box with a number equal to the sum of digits of the ball's number. For example, the ball number 321 will be put in the box number 3 + 2 + 1 = 6 and the ball number 10 will be put in the box number 1 + 0 = 1.\n",
    "\n",
    "Given two integers lowLimit and highLimit, return the number of balls in the box with the most balls.\n",
    "\n"
   ]
  },
  {
   "cell_type": "raw",
   "metadata": {},
   "source": [
    "Input: lowLimit = 1, highLimit = 10\n",
    "Output: 2\n",
    "Explanation:\n",
    "Box Number:  1 2 3 4 5 6 7 8 9 10 11 ...\n",
    "Ball Count:  2 1 1 1 1 1 1 1 1 0  0  ...\n",
    "Box 1 has the most number of balls with 2 balls.\n",
    "\n",
    "\n",
    "\n",
    "Input: lowLimit = 5, highLimit = 15\n",
    "Output: 2\n",
    "Explanation:\n",
    "Box Number:  1 2 3 4 5 6 7 8 9 10 11 ...\n",
    "Ball Count:  1 1 1 1 2 2 1 1 1 0  0  ...\n",
    "Boxes 5 and 6 have the most number of balls with 2 balls in each.\n",
    "\n",
    "\n",
    "\n",
    "\n",
    "Input: lowLimit = 19, highLimit = 28\n",
    "Output: 2\n",
    "Explanation:\n",
    "Box Number:  1 2 3 4 5 6 7 8 9 10 11 12 ...\n",
    "Ball Count:  0 1 1 1 1 1 1 1 1 2  0  0  ...\n",
    "Box 10 has the most number of balls with 2 balls.\n",
    "\n"
   ]
  },
  {
   "cell_type": "code",
   "execution_count": 1,
   "metadata": {},
   "outputs": [],
   "source": [
    "lowLimit = 1\n",
    "highLimit = 10"
   ]
  },
  {
   "cell_type": "code",
   "execution_count": 20,
   "metadata": {},
   "outputs": [],
   "source": [
    "balls = [i for i in range(lowLimit,highLimit+1)]"
   ]
  },
  {
   "cell_type": "code",
   "execution_count": 30,
   "metadata": {},
   "outputs": [
    {
     "data": {
      "text/plain": [
       "2"
      ]
     },
     "execution_count": 30,
     "metadata": {},
     "output_type": "execute_result"
    }
   ],
   "source": [
    "import collections\n",
    "balls = [i for i in range(lowLimit,highLimit+1)]\n",
    "# bal_count = collections.Counter([sum(list(map(int,str(balls[i])))) for i in range(len(balls))])\n",
    "max(collections.Counter([sum(list(map(int,str(balls[i])))) for i in range(len(balls))]).values())"
   ]
  },
  {
   "cell_type": "raw",
   "metadata": {},
   "source": [
    "class Solution:\n",
    "    def countBalls(self, lowLimit: int, highLimit: int) -> int:\n",
    "        balls = [i for i in range(lowLimit,highLimit+1)]\n",
    "        return max(collections.Counter([sum(list(map(int,str(balls[i])))) for i in range(len(balls))]).values())"
   ]
  },
  {
   "cell_type": "code",
   "execution_count": null,
   "metadata": {},
   "outputs": [],
   "source": []
  },
  {
   "cell_type": "markdown",
   "metadata": {},
   "source": [
    "### 561. Array Partition I"
   ]
  },
  {
   "cell_type": "raw",
   "metadata": {},
   "source": [
    "Given an integer array nums of 2n integers, group these integers into n pairs (a1, b1), (a2, b2), ..., (an, bn) such that the sum of min(ai, bi) for all i is maximized. Return the maximized sum."
   ]
  },
  {
   "cell_type": "raw",
   "metadata": {},
   "source": [
    "Input: nums = [1,4,3,2]\n",
    "Output: 4\n",
    "Explanation: All possible pairings (ignoring the ordering of elements) are:\n",
    "1. (1, 4), (2, 3) -> min(1, 4) + min(2, 3) = 1 + 2 = 3\n",
    "2. (1, 3), (2, 4) -> min(1, 3) + min(2, 4) = 1 + 2 = 3\n",
    "3. (1, 2), (3, 4) -> min(1, 2) + min(3, 4) = 1 + 3 = 4\n",
    "So the maximum possible sum is 4.\n",
    "\n",
    "\n",
    "Input: nums = [6,2,6,5,1,2]\n",
    "Output: 9\n",
    "Explanation: The optimal pairing is (2, 1), (2, 5), (6, 6). min(2, 1) + min(2, 5) + min(6, 6) = 1 + 2 + 6 = 9.\n"
   ]
  },
  {
   "cell_type": "code",
   "execution_count": 31,
   "metadata": {},
   "outputs": [
    {
     "data": {
      "text/plain": [
       "[1, 2, 2, 5, 6, 6]"
      ]
     },
     "execution_count": 31,
     "metadata": {},
     "output_type": "execute_result"
    }
   ],
   "source": [
    "l = [6,2,6,5,1,2]\n",
    "l.sort()\n",
    "l"
   ]
  },
  {
   "cell_type": "code",
   "execution_count": 32,
   "metadata": {},
   "outputs": [
    {
     "data": {
      "text/plain": [
       "[1, 2, 3, 4]"
      ]
     },
     "execution_count": 32,
     "metadata": {},
     "output_type": "execute_result"
    }
   ],
   "source": [
    "l = [1,4,3,2]\n",
    "l.sort()\n",
    "l"
   ]
  },
  {
   "cell_type": "code",
   "execution_count": 33,
   "metadata": {},
   "outputs": [
    {
     "data": {
      "text/plain": [
       "[1, 2, 2, 5, 6, 6]"
      ]
     },
     "execution_count": 33,
     "metadata": {},
     "output_type": "execute_result"
    }
   ],
   "source": [
    "nums = [6,2,6,5,1,2]\n",
    "nums.sort()\n",
    "nums"
   ]
  },
  {
   "cell_type": "code",
   "execution_count": 37,
   "metadata": {},
   "outputs": [
    {
     "data": {
      "text/plain": [
       "9"
      ]
     },
     "execution_count": 37,
     "metadata": {},
     "output_type": "execute_result"
    }
   ],
   "source": [
    "sum([min(nums[i],nums[i+1]) for i in range(0,len(nums),2)])"
   ]
  },
  {
   "cell_type": "raw",
   "metadata": {},
   "source": [
    "class Solution:\n",
    "    def arrayPairSum(self, nums: List[int]) -> int:\n",
    "        nums.sort()\n",
    "        return sum([min(nums[i],nums[i+1]) for i in range(0,len(nums),2)])"
   ]
  },
  {
   "cell_type": "code",
   "execution_count": null,
   "metadata": {},
   "outputs": [],
   "source": []
  },
  {
   "cell_type": "markdown",
   "metadata": {},
   "source": [
    "### 1051. Height Checker"
   ]
  },
  {
   "cell_type": "raw",
   "metadata": {},
   "source": [
    "Students are asked to stand in non-decreasing order of heights for an annual photo.\n",
    "\n",
    "Return the minimum number of students that must move in order for all students to be standing in non-decreasing order of height.\n",
    "\n",
    "Notice that when a group of students is selected they can reorder in any possible way between themselves and the non selected students remain on their seats."
   ]
  },
  {
   "cell_type": "raw",
   "metadata": {},
   "source": [
    "Input: heights = [1,1,4,2,1,3]\n",
    "Output: 3\n",
    "Explanation: \n",
    "Current array : [1,1,4,2,1,3]\n",
    "Target array  : [1,1,1,2,3,4]\n",
    "On index 2 (0-based) we have 4 vs 1 so we have to move this student.\n",
    "On index 4 (0-based) we have 1 vs 3 so we have to move this student.\n",
    "On index 5 (0-based) we have 3 vs 4 so we have to move this student.\n",
    "\n",
    "\n",
    "\n",
    "Input: heights = [5,1,2,3,4]\n",
    "Output: 5\n",
    "\n",
    "\n",
    "\n",
    "Input: heights = [1,2,3,4,5]\n",
    "Output: 0"
   ]
  },
  {
   "cell_type": "raw",
   "metadata": {},
   "source": [
    "[1,1,4,2,1,3]\n",
    "[1,1,1,4,2,3] 2\n",
    "[1,1,1,2,3,4] 2\n",
    "\n",
    "[1,1,4,2,1,3]"
   ]
  },
  {
   "cell_type": "code",
   "execution_count": 81,
   "metadata": {},
   "outputs": [
    {
     "data": {
      "text/plain": [
       "[1, 1, 1, 2, 3, 4]"
      ]
     },
     "execution_count": 81,
     "metadata": {},
     "output_type": "execute_result"
    }
   ],
   "source": [
    "heights = [1,1,4,2,1,3]\n",
    "heights_sorted = sorted(heights)\n",
    "heights_sorted"
   ]
  },
  {
   "cell_type": "code",
   "execution_count": 82,
   "metadata": {},
   "outputs": [
    {
     "data": {
      "text/plain": [
       "[1, 1, 4, 2, 1, 3]"
      ]
     },
     "execution_count": 82,
     "metadata": {},
     "output_type": "execute_result"
    }
   ],
   "source": [
    "heights"
   ]
  },
  {
   "cell_type": "code",
   "execution_count": 83,
   "metadata": {},
   "outputs": [
    {
     "data": {
      "text/plain": [
       "[0, 0, 1, 0, 1, 1]"
      ]
     },
     "execution_count": 83,
     "metadata": {},
     "output_type": "execute_result"
    }
   ],
   "source": [
    "[0 if heights[i]-heights_sorted[i] == 0 else 1 for i in range(len(heights))]"
   ]
  },
  {
   "cell_type": "code",
   "execution_count": 84,
   "metadata": {},
   "outputs": [
    {
     "data": {
      "text/plain": [
       "3"
      ]
     },
     "execution_count": 84,
     "metadata": {},
     "output_type": "execute_result"
    }
   ],
   "source": [
    "sum([0 if heights[i]-heights_sorted[i] == 0 else 1 for i in range(len(heights))])"
   ]
  },
  {
   "cell_type": "raw",
   "metadata": {},
   "source": [
    "class Solution:\n",
    "    def heightChecker(self, heights: List[int]) -> int:\n",
    "        heights_sorted = sorted(heights)\n",
    "        return sum([0 if heights[i]-heights_sorted[i] == 0 else 1 for i in range(len(heights))])"
   ]
  },
  {
   "cell_type": "code",
   "execution_count": null,
   "metadata": {},
   "outputs": [],
   "source": []
  },
  {
   "cell_type": "code",
   "execution_count": null,
   "metadata": {},
   "outputs": [],
   "source": []
  },
  {
   "cell_type": "markdown",
   "metadata": {},
   "source": [
    "### 1389. Create Target Array in the Given Order"
   ]
  },
  {
   "cell_type": "raw",
   "metadata": {},
   "source": [
    "Given two arrays of integers nums and index. Your task is to create target array under the following rules:\n",
    "\n",
    "Initially target array is empty.\n",
    "From left to right read nums[i] and index[i], insert at index index[i] the value nums[i] in target array.\n",
    "Repeat the previous step until there are no elements to read in nums and index.\n",
    "Return the target array.\n",
    "\n",
    "It is guaranteed that the insertion operations will be valid."
   ]
  },
  {
   "cell_type": "raw",
   "metadata": {},
   "source": [
    "Input: nums = [0,1,2,3,4], index = [0,1,2,2,1]\n",
    "Output: [0,4,1,3,2]\n",
    "Explanation:\n",
    "nums       index     target\n",
    "0            0        [0]\n",
    "1            1        [0,1]\n",
    "2            2        [0,1,2]\n",
    "3            2        [0,1,3,2]\n",
    "4            1        [0,4,1,3,2]\n",
    "\n",
    "\n",
    "Input: nums = [1,2,3,4,0], index = [0,1,2,3,0]\n",
    "Output: [0,1,2,3,4]\n",
    "Explanation:\n",
    "nums       index     target\n",
    "1            0        [1]\n",
    "2            1        [1,2]\n",
    "3            2        [1,2,3]\n",
    "4            3        [1,2,3,4]\n",
    "0            0        [0,1,2,3,4]\n",
    "\n",
    "\n",
    "\n",
    "Input: nums = [1], index = [0]\n",
    "Output: [1]"
   ]
  },
  {
   "cell_type": "code",
   "execution_count": 86,
   "metadata": {},
   "outputs": [],
   "source": [
    "nums = [0,1,2,3,4]\n",
    "index = [0,1,2,2,1]"
   ]
  },
  {
   "cell_type": "code",
   "execution_count": 91,
   "metadata": {},
   "outputs": [
    {
     "data": {
      "text/plain": [
       "[0, 4, 1, 3, 2]"
      ]
     },
     "execution_count": 91,
     "metadata": {},
     "output_type": "execute_result"
    }
   ],
   "source": [
    "target = []\n",
    "for i in range(len(nums)):\n",
    "    target.insert(index[i],nums[i])\n",
    "target"
   ]
  },
  {
   "cell_type": "code",
   "execution_count": 89,
   "metadata": {},
   "outputs": [],
   "source": []
  },
  {
   "cell_type": "markdown",
   "metadata": {},
   "source": [
    "### 1380. Lucky Numbers in a Matrix"
   ]
  },
  {
   "cell_type": "raw",
   "metadata": {},
   "source": [
    "Given a m * n matrix of distinct numbers, return all lucky numbers in the matrix in any order.\n",
    "\n",
    "A lucky number is an element of the matrix such that it is the minimum element in its row and maximum in its column.\n",
    "\n"
   ]
  },
  {
   "cell_type": "raw",
   "metadata": {},
   "source": [
    "Example 1:\n",
    "\n",
    "Input: matrix = [[3,7,8],[9,11,13],[15,16,17]]\n",
    "Output: [15]\n",
    "Explanation: 15 is the only lucky number since it is the minimum in its row and the maximum in its column\n",
    "\n",
    "    \n",
    "Example 2:\n",
    "\n",
    "Input: matrix = [[1,10,4,2],[9,3,8,7],[15,16,17,12]]\n",
    "Output: [12]\n",
    "Explanation: 12 is the only lucky number since it is the minimum in its row and the maximum in its column.\n",
    "\n",
    "\n",
    "    \n",
    "Example 3:\n",
    "\n",
    "Input: matrix = [[7,8],[1,2]]\n",
    "Output: [7]"
   ]
  },
  {
   "cell_type": "code",
   "execution_count": 93,
   "metadata": {},
   "outputs": [],
   "source": [
    "matrix = [[3, 7, 8],\n",
    "          [9, 11,13],\n",
    "          [15,16,17]]"
   ]
  },
  {
   "cell_type": "code",
   "execution_count": 98,
   "metadata": {},
   "outputs": [
    {
     "data": {
      "text/plain": [
       "[[3, 9, 15], [7, 11, 16], [8, 13, 17]]"
      ]
     },
     "execution_count": 98,
     "metadata": {},
     "output_type": "execute_result"
    }
   ],
   "source": [
    "transpose_matrix = [[row[i] for row in matrix] for i in range(len(matrix[0]))]\n",
    "transpose_matrix"
   ]
  },
  {
   "cell_type": "code",
   "execution_count": 103,
   "metadata": {},
   "outputs": [
    {
     "data": {
      "text/plain": [
       "[15]"
      ]
     },
     "execution_count": 103,
     "metadata": {},
     "output_type": "execute_result"
    }
   ],
   "source": [
    "lucky_number = []\n",
    "# transpose_matrix = [[row[i] for row in matrix] for i in range(len(matrix[0]))]\n",
    "for i in range(len(matrix)):\n",
    "    for j in range(len(matrix[0])):\n",
    "        if matrix[i][j] == min(matrix[i]) and matrix[i][j] == max(transpose_matrix[j]):\n",
    "            lucky_number.append(matrix[i][j] )\n",
    "lucky_number         "
   ]
  },
  {
   "cell_type": "raw",
   "metadata": {},
   "source": [
    "class Solution:\n",
    "    def luckyNumbers (self, matrix: List[List[int]]) -> List[int]:\n",
    "        lucky_number = []\n",
    "        transpose_matrix = [[row[i] for row in matrix] for i in range(len(matrix[0]))]\n",
    "        for i in range(len(matrix)):\n",
    "            for j in range(len(matrix[0])):\n",
    "                if matrix[i][j] == min(matrix[i]) and matrix[i][j] == max(transpose_matrix[j]):\n",
    "                    lucky_number.append(matrix[i][j] )\n",
    "        return lucky_number      "
   ]
  },
  {
   "cell_type": "code",
   "execution_count": null,
   "metadata": {},
   "outputs": [],
   "source": []
  },
  {
   "cell_type": "markdown",
   "metadata": {},
   "source": [
    "### 922. Sort Array By Parity II"
   ]
  },
  {
   "cell_type": "raw",
   "metadata": {},
   "source": [
    "Given an array of integers nums, half of the integers in nums are odd, and the other half are even.\n",
    "\n",
    "Sort the array so that whenever nums[i] is odd, i is odd, and whenever nums[i] is even, i is even.\n",
    "\n",
    "Return any answer array that satisfies this condition."
   ]
  },
  {
   "cell_type": "raw",
   "metadata": {},
   "source": [
    "Example 1:\n",
    "\n",
    "Input: nums = [4,2,5,7]\n",
    "Output: [4,5,2,7]\n",
    "Explanation: [4,7,2,5], [2,5,4,7], [2,7,4,5] would also have been accepted.\n",
    "\n",
    "\n",
    "Example 2:\n",
    "\n",
    "Input: nums = [2,3]\n",
    "Output: [2,3]"
   ]
  },
  {
   "cell_type": "code",
   "execution_count": 115,
   "metadata": {},
   "outputs": [],
   "source": [
    "nums = [4,2,5,7]\n",
    "even = [nums[i] for i in range(len(nums))  if nums[i]%2 == 0 ]\n",
    "odd  = [nums[i] for i in range(len(nums))  if nums[i]%2 != 0 ]"
   ]
  },
  {
   "cell_type": "code",
   "execution_count": 116,
   "metadata": {},
   "outputs": [],
   "source": [
    "final = []\n",
    "for i in range(len(nums)//2):\n",
    "    final.append(even[i])\n",
    "    final.append(odd[i])"
   ]
  },
  {
   "cell_type": "code",
   "execution_count": 117,
   "metadata": {},
   "outputs": [
    {
     "data": {
      "text/plain": [
       "[4, 5, 2, 7]"
      ]
     },
     "execution_count": 117,
     "metadata": {},
     "output_type": "execute_result"
    }
   ],
   "source": [
    "final"
   ]
  },
  {
   "cell_type": "raw",
   "metadata": {},
   "source": [
    "class Solution:\n",
    "    def sortArrayByParityII(self, nums: List[int]) -> List[int]:\n",
    "        even = [nums[i] for i in range(len(nums))  if nums[i]%2 == 0 ]\n",
    "        odd  = [nums[i] for i in range(len(nums))  if nums[i]%2 != 0 ]\n",
    "        final = []\n",
    "        for i in range(len(nums)//2):\n",
    "            final.append(even[i])\n",
    "            final.append(odd[i])\n",
    "        return final"
   ]
  },
  {
   "cell_type": "code",
   "execution_count": null,
   "metadata": {},
   "outputs": [],
   "source": []
  },
  {
   "cell_type": "markdown",
   "metadata": {},
   "source": [
    "### 1002. Find Common Characters"
   ]
  },
  {
   "cell_type": "raw",
   "metadata": {},
   "source": [
    "Given an array A of strings made only from lowercase letters, return a list of all characters that show up in all strings within the list (including duplicates).  For example, if a character occurs 3 times in all strings but not 4 times, you need to include that character three times in the final answer.\n",
    "\n",
    "You may return the answer in any order."
   ]
  },
  {
   "cell_type": "raw",
   "metadata": {},
   "source": [
    "Example 1:\n",
    "\n",
    "Input: [\"bella\",\"label\",\"roller\"]\n",
    "Output: [\"e\",\"l\",\"l\"]\n",
    "\n",
    "\n",
    "Example 2:\n",
    "\n",
    "Input: [\"cool\",\"lock\",\"cook\"]\n",
    "Output: [\"c\",\"o\"]"
   ]
  },
  {
   "cell_type": "code",
   "execution_count": 165,
   "metadata": {},
   "outputs": [],
   "source": [
    "A = [\"cool\",\"lock\",\"cook\"]\n",
    "words_A = [list(A[i]) for i in range(len(A))]"
   ]
  },
  {
   "cell_type": "code",
   "execution_count": 166,
   "metadata": {},
   "outputs": [
    {
     "data": {
      "text/plain": [
       "['c', 'o']"
      ]
     },
     "execution_count": 166,
     "metadata": {},
     "output_type": "execute_result"
    }
   ],
   "source": [
    "for i in range(1,len(words_A)):\n",
    "    words_A[i] = common_helper(words_A[i-1],words_A[i])\n",
    "words_A[-1]"
   ]
  },
  {
   "cell_type": "code",
   "execution_count": 149,
   "metadata": {},
   "outputs": [],
   "source": [
    "def common_helper(l1,l2):\n",
    "    common = []\n",
    "    for char in l1:\n",
    "        if char in l2:\n",
    "            l2.remove(char)\n",
    "            common.append(char)\n",
    "    return common"
   ]
  },
  {
   "cell_type": "code",
   "execution_count": 150,
   "metadata": {},
   "outputs": [
    {
     "name": "stdout",
     "output_type": "stream",
     "text": [
      "['b', 'e', 'l', 'a']\n",
      "['e', 'r']\n",
      "['e', 'x']\n"
     ]
    }
   ],
   "source": [
    "print(common_helper(list(A[0]),list(A[1])))\n",
    "print(common_helper(list(A[1]),list(A[2])))\n",
    "print(common_helper(list(A[0]),list(A[2])))"
   ]
  },
  {
   "cell_type": "code",
   "execution_count": 152,
   "metadata": {},
   "outputs": [],
   "source": [
    "l1=['b', 'e', 'l', 'a']\n",
    "l2=['e', 'r']\n",
    "l3=['e', 'x']"
   ]
  },
  {
   "cell_type": "raw",
   "metadata": {},
   "source": [
    "def common_helper(l1,l2):\n",
    "    common = []\n",
    "    for char in l1:\n",
    "        if char in l2:\n",
    "            l2.remove(char)\n",
    "            common.append(char)\n",
    "    return common\n",
    "\n",
    "class Solution:\n",
    "    def commonChars(self, A: List[str]) -> List[str]:\n",
    "        words_A = [list(A[i]) for i in range(len(A))]\n",
    "        for i in range(1,len(words_A)):\n",
    "            words_A[i] = common_helper(words_A[i-1],words_A[i])\n",
    "        return words_A[-1]"
   ]
  },
  {
   "cell_type": "code",
   "execution_count": null,
   "metadata": {},
   "outputs": [],
   "source": []
  },
  {
   "cell_type": "code",
   "execution_count": null,
   "metadata": {},
   "outputs": [],
   "source": []
  },
  {
   "cell_type": "code",
   "execution_count": null,
   "metadata": {},
   "outputs": [],
   "source": []
  },
  {
   "cell_type": "code",
   "execution_count": null,
   "metadata": {},
   "outputs": [],
   "source": []
  },
  {
   "cell_type": "raw",
   "metadata": {},
   "source": [
    "Date: 3-3-2021                                                                                              Problem solved : 5"
   ]
  },
  {
   "cell_type": "markdown",
   "metadata": {},
   "source": [
    "### 2. Set Mismatch [March Daily Challenge ]"
   ]
  },
  {
   "cell_type": "raw",
   "metadata": {},
   "source": [
    "You have a set of integers s, which originally contains all the numbers from 1 to n. Unfortunately, due to some error, one of the numbers in s got duplicated to another number in the set, which results in repetition of one number and loss of another number.\n",
    "\n",
    "You are given an integer array nums representing the data status of this set after the error.\n",
    "\n",
    "Find the number that occurs twice and the number that is missing and return them in the form of an array."
   ]
  },
  {
   "cell_type": "raw",
   "metadata": {},
   "source": [
    "Example 1:\n",
    "\n",
    "Input: nums = [1,2,2,4]\n",
    "Output: [2,3]\n",
    "\n",
    "\n",
    "\n",
    "Example 2:\n",
    "\n",
    "Input: nums = [1,1]\n",
    "Output: [1,2]"
   ]
  },
  {
   "cell_type": "code",
   "execution_count": 73,
   "metadata": {},
   "outputs": [
    {
     "data": {
      "text/plain": [
       "[1, 2, 2, 4]"
      ]
     },
     "execution_count": 73,
     "metadata": {},
     "output_type": "execute_result"
    }
   ],
   "source": [
    "nums = [3,2,3,4,6,5]\n",
    "nums = [1,2,2,4]\n",
    "nums.sort()\n",
    "nums"
   ]
  },
  {
   "cell_type": "code",
   "execution_count": 74,
   "metadata": {},
   "outputs": [
    {
     "data": {
      "text/plain": [
       "(2, 3)"
      ]
     },
     "execution_count": 74,
     "metadata": {},
     "output_type": "execute_result"
    }
   ],
   "source": [
    "for key,value in collections.Counter(nums).items():\n",
    "    if value ==2:\n",
    "        ans = key, list(set([i+1 for i in range(len(nums))]).difference(set(nums)))[0]\n",
    "        break\n",
    "ans\n"
   ]
  },
  {
   "cell_type": "code",
   "execution_count": null,
   "metadata": {},
   "outputs": [],
   "source": []
  },
  {
   "cell_type": "code",
   "execution_count": null,
   "metadata": {},
   "outputs": [],
   "source": []
  },
  {
   "cell_type": "markdown",
   "metadata": {},
   "source": [
    "### Random Question"
   ]
  },
  {
   "cell_type": "code",
   "execution_count": 82,
   "metadata": {},
   "outputs": [],
   "source": [
    "students =   [1,1,1,0,0,1]\n",
    "sandwiches = [1,0,0,0,1,1]\n",
    "\n",
    "students =   [0,0,0,1,1,1,1,0,0,0]\n",
    "sandwiches = [1,0,1,0,0,1,1,0,0,0]"
   ]
  },
  {
   "cell_type": "code",
   "execution_count": 83,
   "metadata": {},
   "outputs": [
    {
     "data": {
      "text/plain": [
       "0"
      ]
     },
     "execution_count": 83,
     "metadata": {},
     "output_type": "execute_result"
    }
   ],
   "source": [
    "n=2*len(students)\n",
    "while len(students) and n:\n",
    "    s = students.pop(0)\n",
    "    if s == sandwiches[0]:\n",
    "        n=2*len(students)\n",
    "        sandwiches.pop(0)\n",
    "    else:\n",
    "        students.append(s)\n",
    "    n-=1\n",
    "len(students)"
   ]
  },
  {
   "cell_type": "code",
   "execution_count": null,
   "metadata": {},
   "outputs": [],
   "source": []
  },
  {
   "cell_type": "code",
   "execution_count": null,
   "metadata": {},
   "outputs": [],
   "source": []
  },
  {
   "cell_type": "markdown",
   "metadata": {},
   "source": [
    "### 999. Available Captures for Rook"
   ]
  },
  {
   "cell_type": "raw",
   "metadata": {},
   "source": [
    "On an 8 x 8 chessboard, there is exactly one white rook 'R' and some number of white bishops 'B', black pawns 'p', and empty squares '.'.\n",
    "\n",
    "When the rook moves, it chooses one of four cardinal directions (north, east, south, or west), then moves in that direction until it chooses to stop, reaches the edge of the board, captures a black pawn, or is blocked by a white bishop. A rook is considered attacking a pawn if the rook can capture the pawn on the rook's turn. The number of available captures for the white rook is the number of pawns that the rook is attacking.\n",
    "\n",
    "Return the number of available captures for the white rook."
   ]
  },
  {
   "cell_type": "raw",
   "metadata": {},
   "source": [
    "Input: board = [[\".\",\".\",\".\",\".\",\".\",\".\",\".\",\".\"],[\".\",\".\",\".\",\"p\",\".\",\".\",\".\",\".\"],[\".\",\".\",\".\",\"R\",\".\",\".\",\".\",\"p\"],[\".\",\".\",\".\",\".\",\".\",\".\",\".\",\".\"],[\".\",\".\",\".\",\".\",\".\",\".\",\".\",\".\"],[\".\",\".\",\".\",\"p\",\".\",\".\",\".\",\".\"],[\".\",\".\",\".\",\".\",\".\",\".\",\".\",\".\"],[\".\",\".\",\".\",\".\",\".\",\".\",\".\",\".\"]]\n",
    "Output: 3\n",
    "Explanation: In this example, the rook is attacking all the pawns.\n",
    "    \n",
    "\n",
    "    \n",
    "    \n",
    "Input: board = [[\".\",\".\",\".\",\".\",\".\",\".\",\".\",\".\"],[\".\",\"p\",\"p\",\"p\",\"p\",\"p\",\".\",\".\"],[\".\",\"p\",\"p\",\"B\",\"p\",\"p\",\".\",\".\"],[\".\",\"p\",\"B\",\"R\",\"B\",\"p\",\".\",\".\"],[\".\",\"p\",\"p\",\"B\",\"p\",\"p\",\".\",\".\"],[\".\",\"p\",\"p\",\"p\",\"p\",\"p\",\".\",\".\"],[\".\",\".\",\".\",\".\",\".\",\".\",\".\",\".\"],[\".\",\".\",\".\",\".\",\".\",\".\",\".\",\".\"]]\n",
    "Output: 0\n",
    "Explanation: The bishops are blocking the rook from attacking any of the pawns.\n",
    "    \n",
    "    \n",
    "    \n",
    "    \n",
    "Input: board = [[\".\",\".\",\".\",\".\",\".\",\".\",\".\",\".\"],[\".\",\".\",\".\",\"p\",\".\",\".\",\".\",\".\"],[\".\",\".\",\".\",\"p\",\".\",\".\",\".\",\".\"],[\"p\",\"p\",\".\",\"R\",\".\",\"p\",\"B\",\".\"],[\".\",\".\",\".\",\".\",\".\",\".\",\".\",\".\"],[\".\",\".\",\".\",\"B\",\".\",\".\",\".\",\".\"],[\".\",\".\",\".\",\"p\",\".\",\".\",\".\",\".\"],[\".\",\".\",\".\",\".\",\".\",\".\",\".\",\".\"]]\n",
    "Output: 3\n",
    "Explanation: The rook is attacking the pawns at positions b5, d6, and f5."
   ]
  },
  {
   "cell_type": "code",
   "execution_count": 45,
   "metadata": {},
   "outputs": [],
   "source": [
    "board = [[\".\",\".\",\".\",\".\",\".\",\".\",\".\",\".\"],\n",
    "         [\".\",\".\",\".\",\"p\",\".\",\".\",\".\",\".\"],\n",
    "         [\".\",\".\",\".\",\"R\",\".\",\".\",\".\",\"p\"],\n",
    "         [\".\",\".\",\".\",\".\",\".\",\".\",\".\",\".\"],\n",
    "         [\".\",\".\",\".\",\".\",\".\",\".\",\".\",\".\"],\n",
    "         [\".\",\".\",\".\",\"p\",\".\",\".\",\".\",\".\"],\n",
    "         [\".\",\".\",\".\",\".\",\".\",\".\",\".\",\".\"],\n",
    "         [\".\",\".\",\".\",\".\",\".\",\".\",\".\",\".\"]]\n",
    "\n"
   ]
  },
  {
   "cell_type": "code",
   "execution_count": 46,
   "metadata": {},
   "outputs": [
    {
     "data": {
      "text/plain": [
       "[['.', '.', '.', '.', '.', '.', '.', '.'],\n",
       " ['.', '.', '.', '.', '.', '.', '.', '.'],\n",
       " ['.', '.', '.', '.', '.', '.', '.', '.'],\n",
       " ['.', 'p', 'R', '.', '.', 'p', '.', '.'],\n",
       " ['.', '.', '.', '.', '.', '.', '.', '.'],\n",
       " ['.', '.', '.', '.', '.', '.', '.', '.'],\n",
       " ['.', '.', '.', '.', '.', '.', '.', '.'],\n",
       " ['.', '.', 'p', '.', '.', '.', '.', '.']]"
      ]
     },
     "execution_count": 46,
     "metadata": {},
     "output_type": "execute_result"
    }
   ],
   "source": [
    "transpose_board = [[row[i] for row in board] for i in range(len(board[0]))]\n",
    "transpose_board"
   ]
  },
  {
   "cell_type": "code",
   "execution_count": 47,
   "metadata": {},
   "outputs": [],
   "source": [
    "for i in range(len(board)):\n",
    "    if \"R\" in board[i]:\n",
    "        rowR = i\n",
    "        break"
   ]
  },
  {
   "cell_type": "code",
   "execution_count": 53,
   "metadata": {},
   "outputs": [],
   "source": [
    "rook_row = board[rowR]\n",
    "rook_col = transpose_board[rook_row.index(\"R\")]\n",
    "\n",
    "rook_row = ''.join(rook_row).replace(\".\",\"\")\n",
    "rook_col = ''.join(rook_col).replace(\".\",\"\")"
   ]
  },
  {
   "cell_type": "code",
   "execution_count": 60,
   "metadata": {},
   "outputs": [],
   "source": [
    "count = 0\n",
    "if \"Rp\" in rook_row:\n",
    "    count+=1\n",
    "if \"pR\" in rook_row:\n",
    "    count+=1\n",
    "if \"Rp\" in rook_col:\n",
    "    count+=1\n",
    "if \"pR\" in rook_col:\n",
    "    count+=1"
   ]
  },
  {
   "cell_type": "code",
   "execution_count": 61,
   "metadata": {},
   "outputs": [
    {
     "data": {
      "text/plain": [
       "3"
      ]
     },
     "execution_count": 61,
     "metadata": {},
     "output_type": "execute_result"
    }
   ],
   "source": [
    "count"
   ]
  },
  {
   "cell_type": "raw",
   "metadata": {},
   "source": [
    "class Solution:\n",
    "    def numRookCaptures(self, board: List[List[str]]) -> int:\n",
    "        \n",
    "        transpose_board = [[row[i] for row in board] for i in range(len(board[0]))]\n",
    "        for i in range(len(board)):\n",
    "            if \"R\" in board[i]:\n",
    "                rowR = i\n",
    "                break\n",
    "\n",
    "        rook_row = board[rowR]\n",
    "        rook_col = transpose_board[rook_row.index(\"R\")]\n",
    "\n",
    "        rook_row = ''.join(rook_row).replace(\".\",\"\")\n",
    "        rook_col = ''.join(rook_col).replace(\".\",\"\")\n",
    "\n",
    "        count = 0\n",
    "        if \"Rp\" in rook_row:\n",
    "            count+=1\n",
    "        if \"pR\" in rook_row:\n",
    "            count+=1\n",
    "        if \"Rp\" in rook_col:\n",
    "            count+=1\n",
    "        if \"pR\" in rook_col:\n",
    "            count+=1\n",
    "        \n",
    "        return count"
   ]
  },
  {
   "cell_type": "code",
   "execution_count": null,
   "metadata": {},
   "outputs": [],
   "source": []
  },
  {
   "cell_type": "markdown",
   "metadata": {},
   "source": [
    "### 1217. Minimum Cost to Move Chips to The Same Position"
   ]
  },
  {
   "cell_type": "raw",
   "metadata": {},
   "source": [
    "We have n chips, where the position of the ith chip is position[i].\n",
    "\n",
    "We need to move all the chips to the same position. In one step, we can change the position of the ith chip from position[i] to:\n",
    "\n",
    "position[i] + 2 or position[i] - 2 with cost = 0.\n",
    "position[i] + 1 or position[i] - 1 with cost = 1.\n",
    "Return the minimum cost needed to move all the chips to the same position."
   ]
  },
  {
   "cell_type": "raw",
   "metadata": {},
   "source": [
    "Input: position = [1,2,3]\n",
    "Output: 1\n",
    "Explanation: First step: Move the chip at position 3 to position 1 with cost = 0.\n",
    "Second step: Move the chip at position 2 to position 1 with cost = 1.\n",
    "Total cost is 1.\n",
    "\n",
    "\n",
    "\n",
    "Input: position = [2,2,2,3,3]\n",
    "Output: 2\n",
    "Explanation: We can move the two chips at position  3 to position 2. Each move has cost = 1. The total cost = 2.\n",
    "\n",
    "\n",
    "\n",
    "Input: position = [1,10000X`00000]\n",
    "Output: 1\n"
   ]
  },
  {
   "cell_type": "raw",
   "metadata": {},
   "source": [
    "class Solution:\n",
    "    def minCostToMoveChips(self, position: List[int]) -> int:\n",
    "        even = 0\n",
    "        odd  = 0\n",
    "        for i in position:\n",
    "            if i%2 ==0:\n",
    "                even+=1\n",
    "            else:\n",
    "                odd+=1\n",
    "        if even > odd:\n",
    "            return odd\n",
    "        return even"
   ]
  },
  {
   "cell_type": "code",
   "execution_count": null,
   "metadata": {},
   "outputs": [],
   "source": []
  },
  {
   "cell_type": "markdown",
   "metadata": {},
   "source": [
    "### 1122. Relative Sort Array"
   ]
  },
  {
   "cell_type": "raw",
   "metadata": {},
   "source": [
    "Given two arrays arr1 and arr2, the elements of arr2 are distinct, and all elements in arr2 are also in arr1.\n",
    "\n",
    "Sort the elements of arr1 such that the relative ordering of items in arr1 are the same as in arr2.  Elements that don't appear in arr2 should be placed at the end of arr1 in ascending order."
   ]
  },
  {
   "cell_type": "raw",
   "metadata": {},
   "source": [
    "Example 1:\n",
    "\n",
    "Input: arr1 = [2,3,1,3,2,4,6,7,9,2,19], arr2 = [2,1,4,3,9,6]\n",
    "Output: [2,2,2,1,4,3,3,9,6,7,19]\n",
    " \n",
    "\n",
    "\n"
   ]
  },
  {
   "cell_type": "code",
   "execution_count": 78,
   "metadata": {},
   "outputs": [],
   "source": [
    "arr1 = [2,3,1,3,2,4,6,9,2,19,7]\n",
    "arr2 = [2,1,4,3,9,6]"
   ]
  },
  {
   "cell_type": "code",
   "execution_count": 79,
   "metadata": {},
   "outputs": [
    {
     "data": {
      "text/plain": [
       "[2, 2, 2, 1, 4, 3, 3, 9, 6, 7, 19]"
      ]
     },
     "execution_count": 79,
     "metadata": {},
     "output_type": "execute_result"
    }
   ],
   "source": [
    "ans=[]\n",
    "for i in range(len(arr2)):\n",
    "    while arr1.count(arr2[i]):\n",
    "        arr1.remove(arr2[i])\n",
    "        ans.append(arr2[i])\n",
    "ans+sorted(arr1)"
   ]
  },
  {
   "cell_type": "raw",
   "metadata": {},
   "source": [
    "class Solution:\n",
    "    def relativeSortArray(self, arr1: List[int], arr2: List[int]) -> List[int]:\n",
    "        ans=[]\n",
    "        for i in range(len(arr2)):\n",
    "            while arr1.count(arr2[i]):\n",
    "                arr1.remove(arr2[i])\n",
    "                ans.append(arr2[i])\n",
    "        return ans+sorted(arr1)"
   ]
  },
  {
   "cell_type": "code",
   "execution_count": null,
   "metadata": {},
   "outputs": [],
   "source": []
  },
  {
   "cell_type": "code",
   "execution_count": 1,
   "metadata": {},
   "outputs": [],
   "source": [
    "#Google kickstart\n"
   ]
  },
  {
   "cell_type": "raw",
   "metadata": {},
   "source": [
    "2\n",
    "\n",
    "3 3\n",
    "2 7 4        1 3 2\n",
    "\n",
    "5 6\n",
    "9 10 4 7 2   3 5 1 2 4\n"
   ]
  },
  {
   "cell_type": "code",
   "execution_count": 16,
   "metadata": {},
   "outputs": [],
   "source": [
    "\n",
    "queue = [2,7,4]\n",
    "limit = 3"
   ]
  },
  {
   "cell_type": "code",
   "execution_count": 17,
   "metadata": {},
   "outputs": [
    {
     "data": {
      "text/plain": [
       "[(0, 2), (1, 7), (2, 4)]"
      ]
     },
     "execution_count": 17,
     "metadata": {},
     "output_type": "execute_result"
    }
   ],
   "source": [
    "queue = list(enumerate(queue))\n",
    "queue"
   ]
  },
  {
   "cell_type": "code",
   "execution_count": 18,
   "metadata": {},
   "outputs": [],
   "source": [
    "leaving_order = []\n",
    "while queue :\n",
    "    front_person     = queue.pop(0)\n",
    "    remaining_amount = front_person[1]-limit\n",
    "    if remaining_amount<=0:\n",
    "        leaving_order.append(front_person[0]+1)\n",
    "        continue\n",
    "    queue.append((front_person[0],remaining_amount))\n",
    "        "
   ]
  },
  {
   "cell_type": "code",
   "execution_count": 19,
   "metadata": {},
   "outputs": [
    {
     "data": {
      "text/plain": [
       "[1, 3, 2]"
      ]
     },
     "execution_count": 19,
     "metadata": {},
     "output_type": "execute_result"
    }
   ],
   "source": [
    "leaving_order"
   ]
  },
  {
   "cell_type": "code",
   "execution_count": 22,
   "metadata": {},
   "outputs": [
    {
     "name": "stdout",
     "output_type": "stream",
     "text": [
      "2\n",
      "3 3\n",
      "2 7 4\n",
      "5 6\n",
      "9 10 4 7 2\n",
      "1 3 2\n",
      "3 5 1 2 4\n"
     ]
    }
   ],
   "source": [
    "no_of_iterations = int(input())\n",
    "ans = []\n",
    "for i in range(no_of_iterations):\n",
    "    n,limit = list(map(int,input().split()))\n",
    "    queue = list(map(int,input().split()))\n",
    "    queue = list(enumerate(queue))\n",
    "    leaving_order = []\n",
    "    while queue :\n",
    "        front_person     = queue.pop(0)\n",
    "        remaining_amount = front_person[1]-limit\n",
    "        if remaining_amount<=0:\n",
    "            leaving_order.append(front_person[0]+1)\n",
    "            continue\n",
    "        queue.append((front_person[0],remaining_amount))\n",
    "    ans.append(' '.join(map(str, leaving_order)))\n",
    "for i in range(len(ans)):\n",
    "    print(ans[i])\n"
   ]
  },
  {
   "cell_type": "code",
   "execution_count": 102,
   "metadata": {},
   "outputs": [
    {
     "data": {
      "text/plain": [
       "[40, 10, 20, 30]"
      ]
     },
     "execution_count": 102,
     "metadata": {},
     "output_type": "execute_result"
    }
   ],
   "source": [
    "[5,3,4,2,8,6,7,1,3]\n",
    "[6,8,7,1,11,10,2,12,3,5,9,4]\n",
    "\n",
    "[40,10,20,30]"
   ]
  },
  {
   "cell_type": "code",
   "execution_count": 103,
   "metadata": {},
   "outputs": [],
   "source": [
    "arr = [37,12,28,9,100,56,80,5,12]\n",
    "arr = [-5,6,5,-44,27,14,-27,36,-17,-6,13,-12]\n",
    "# arr = [40,10,20,30]\n",
    "arr = [100,100,100]"
   ]
  },
  {
   "cell_type": "code",
   "execution_count": 70,
   "metadata": {},
   "outputs": [
    {
     "name": "stdout",
     "output_type": "stream",
     "text": [
      "[100, 100, 100]\n",
      "[1, 1, 1]\n"
     ]
    },
    {
     "data": {
      "text/plain": [
       "[1, 1, 1]"
      ]
     },
     "execution_count": 70,
     "metadata": {},
     "output_type": "execute_result"
    }
   ],
   "source": [
    "arr_copy = sorted(arr)\n",
    "print(arr_copy)\n",
    "ranks = [1]\n",
    "r=1\n",
    "for i in range(1,len(arr_copy)):\n",
    "    if arr_copy[i-1] == arr_copy[i]:\n",
    "        ranks.append(r)\n",
    "        continue\n",
    "    r+=1\n",
    "    ranks.append(r)\n",
    "print(ranks)\n",
    "arr_rank = []\n",
    "for i in range(len(arr)):\n",
    "    arr_rank.append( ranks[arr_copy.index(arr[i])] )\n",
    "arr_rank"
   ]
  },
  {
   "cell_type": "code",
   "execution_count": 114,
   "metadata": {},
   "outputs": [],
   "source": []
  },
  {
   "cell_type": "code",
   "execution_count": 128,
   "metadata": {},
   "outputs": [
    {
     "name": "stdout",
     "output_type": "stream",
     "text": [
      "[1, 1, 100]\n",
      "[1, 1, 1]\n"
     ]
    }
   ],
   "source": [
    "arr = [100,100,100]\n",
    "\n",
    "arr_copy = sorted(arr)\n",
    "arr_rank = list(arr)\n",
    "arr_rank[arr.index(arr_copy[0])] = 1\n",
    "arr[arr.index(arr_copy[0])] = 1000000001\n",
    "r=1\n",
    "for i in range(1,len(arr_rank)):\n",
    "    if arr_copy[i-1] == arr_copy[i]:\n",
    "        pass\n",
    "    else:\n",
    "        r+=1\n",
    "    arr_rank[arr.index(arr_copy[i])] = r\n",
    "    arr[arr.index(arr_copy[i])] = 1000000001\n",
    "    print(arr_rank)\n"
   ]
  },
  {
   "cell_type": "code",
   "execution_count": 73,
   "metadata": {},
   "outputs": [
    {
     "data": {
      "text/plain": [
       "[6, 8, 7, 1, 11, 10, 2, 12, 3, 5, 9, 4]"
      ]
     },
     "execution_count": 73,
     "metadata": {},
     "output_type": "execute_result"
    }
   ],
   "source": [
    "[6,8,7,1,11,10,2,12,3,5,9,4]"
   ]
  },
  {
   "cell_type": "code",
   "execution_count": 58,
   "metadata": {},
   "outputs": [
    {
     "data": {
      "text/plain": [
       "-44"
      ]
     },
     "execution_count": 58,
     "metadata": {},
     "output_type": "execute_result"
    }
   ],
   "source": [
    "arr_copy = sorted(arr)\n",
    "arr[arr.index(arr_copy[0])]"
   ]
  },
  {
   "cell_type": "code",
   "execution_count": 59,
   "metadata": {},
   "outputs": [
    {
     "data": {
      "text/plain": [
       "[-44, -27, -17, -12, -6, -5, 5, 6, 13, 14, 27, 36]"
      ]
     },
     "execution_count": 59,
     "metadata": {},
     "output_type": "execute_result"
    }
   ],
   "source": [
    "arr_copy"
   ]
  },
  {
   "cell_type": "code",
   "execution_count": null,
   "metadata": {},
   "outputs": [],
   "source": []
  },
  {
   "cell_type": "code",
   "execution_count": null,
   "metadata": {},
   "outputs": [],
   "source": []
  },
  {
   "cell_type": "code",
   "execution_count": null,
   "metadata": {},
   "outputs": [],
   "source": []
  },
  {
   "cell_type": "code",
   "execution_count": 135,
   "metadata": {},
   "outputs": [
    {
     "data": {
      "text/plain": [
       "[6, 8, 7, 1, 11, 10, 2, 12, 3, 5, 9, 4]"
      ]
     },
     "execution_count": 135,
     "metadata": {},
     "output_type": "execute_result"
    }
   ],
   "source": [
    "arr = [-5,6,5,-44,27,14,-27,36,-17,-6,13,-12]\n",
    "\n",
    "arr_set = sorted(set(arr))\n",
    "arr_dict = {}\n",
    "for i in range(len(arr_set)):\n",
    "    arr_dict[arr_set[i]] = i+1\n",
    "[arr_dict[arr[i]] for i in range(len(arr))]"
   ]
  },
  {
   "cell_type": "code",
   "execution_count": null,
   "metadata": {},
   "outputs": [],
   "source": []
  },
  {
   "cell_type": "raw",
   "metadata": {},
   "source": [
    "Date: 7-3-21"
   ]
  },
  {
   "cell_type": "markdown",
   "metadata": {},
   "source": [
    "### 1678. Goal Parser Interpretation"
   ]
  },
  {
   "cell_type": "raw",
   "metadata": {},
   "source": [
    "You own a Goal Parser that can interpret a string command. The command consists of an alphabet of \"G\", \"()\" and/or \"(al)\" in some order. The Goal Parser will interpret \"G\" as the string \"G\", \"()\" as the string \"o\", and \"(al)\" as the string \"al\". The interpreted strings are then concatenated in the original order.\n",
    "\n",
    "Given the string command, return the Goal Parser's interpretation of command.\n",
    "\n",
    " "
   ]
  },
  {
   "cell_type": "raw",
   "metadata": {},
   "source": [
    "Example 1:\n",
    "\n",
    "Input: command = \"G()(al)\"\n",
    "Output: \"Goal\"\n",
    "Explanation: The Goal Parser interprets the command as follows:\n",
    "G -> G\n",
    "() -> o\n",
    "(al) -> al\n",
    "The final concatenated result is \"Goal\".\n",
    "\n",
    "\n",
    "\n",
    "Example 2:\n",
    "\n",
    "Input: command = \"G()()()()(al)\"\n",
    "Output: \"Gooooal\"\n",
    "\n",
    "\n",
    "Example 3:\n",
    "\n",
    "Input: command = \"(al)G(al)()()G\"\n",
    "Output: \"alGalooG\""
   ]
  },
  {
   "cell_type": "code",
   "execution_count": 7,
   "metadata": {},
   "outputs": [],
   "source": [
    "s = \"(al)G(al)()()G\""
   ]
  },
  {
   "cell_type": "code",
   "execution_count": 8,
   "metadata": {},
   "outputs": [
    {
     "data": {
      "text/plain": [
       "'alGalooG'"
      ]
     },
     "execution_count": 8,
     "metadata": {},
     "output_type": "execute_result"
    }
   ],
   "source": [
    "while s.count(\"(al)\"):\n",
    "    s = s.replace(\"(al)\",\"al\")\n",
    "while s.count(\"()\"):\n",
    "    s = s.replace(\"()\",\"o\")\n",
    "s"
   ]
  },
  {
   "cell_type": "raw",
   "metadata": {},
   "source": [
    "class Solution:\n",
    "    def interpret(self, s: str) -> str:\n",
    "        while s.count(\"(al)\"):\n",
    "            s = s.replace(\"(al)\",\"al\")\n",
    "        while s.count(\"()\"):\n",
    "            s = s.replace(\"()\",\"o\")\n",
    "        return s"
   ]
  },
  {
   "cell_type": "markdown",
   "metadata": {},
   "source": [
    "### 1662. Check If Two String Arrays are Equivalent"
   ]
  },
  {
   "cell_type": "code",
   "execution_count": 12,
   "metadata": {},
   "outputs": [],
   "source": [
    "w = [\"ab\", \"c\"]"
   ]
  },
  {
   "cell_type": "raw",
   "metadata": {},
   "source": [
    "class Solution:\n",
    "    def arrayStringsAreEqual(self, word1: List[str], word2: List[str]) -> bool:\n",
    "        return \"\".join(word1) == \"\".join(word2)"
   ]
  },
  {
   "cell_type": "code",
   "execution_count": null,
   "metadata": {},
   "outputs": [],
   "source": []
  },
  {
   "cell_type": "code",
   "execution_count": null,
   "metadata": {},
   "outputs": [],
   "source": []
  },
  {
   "cell_type": "markdown",
   "metadata": {},
   "source": [
    "### 1614. Maximum Nesting Depth of the Parentheses"
   ]
  },
  {
   "cell_type": "code",
   "execution_count": 17,
   "metadata": {},
   "outputs": [
    {
     "data": {
      "text/plain": [
       "1"
      ]
     },
     "execution_count": 17,
     "metadata": {},
     "output_type": "execute_result"
    }
   ],
   "source": [
    "s = \"(1+(2*3)+((8)/4))+1\"\n",
    "s = \"1+(2*3)/(2-1)\"\n",
    "\n",
    "max_depth = 0 \n",
    "depth = 0\n",
    "for i in range(len(s)):\n",
    "    if s[i] == \"(\":\n",
    "        depth+=1\n",
    "    if s[i] == \")\":\n",
    "        depth-=1\n",
    "    if depth > max_depth:\n",
    "        max_depth = depth\n",
    "max_depth\n",
    "        "
   ]
  },
  {
   "cell_type": "raw",
   "metadata": {},
   "source": [
    "class Solution:\n",
    "    def maxDepth(self, s: str) -> int:\n",
    "        max_depth = 0 \n",
    "        depth = 0\n",
    "        for i in range(len(s)):\n",
    "            if s[i] == \"(\":\n",
    "                depth+=1\n",
    "            if s[i] == \")\":\n",
    "                depth-=1\n",
    "            if depth > max_depth:\n",
    "                max_depth = depth\n",
    "        return max_depth\n"
   ]
  },
  {
   "cell_type": "code",
   "execution_count": null,
   "metadata": {},
   "outputs": [],
   "source": []
  },
  {
   "cell_type": "markdown",
   "metadata": {},
   "source": [
    "### 121. Best Time to Buy and Sell Stock"
   ]
  },
  {
   "cell_type": "raw",
   "metadata": {},
   "source": [
    "You are given an array prices where prices[i] is the price of a given stock on the ith day.\n",
    "\n",
    "You want to maximize your profit by choosing a single day to buy one stock and choosing a different day in the future to sell that stock.\n",
    "\n",
    "Return the maximum profit you can achieve from this transaction. If you cannot achieve any profit, return 0."
   ]
  },
  {
   "cell_type": "raw",
   "metadata": {},
   "source": [
    "Example 1:\n",
    "\n",
    "Input: prices = [7,1,5,3,6,4]\n",
    "Output: 5\n",
    "Explanation: Buy on day 2 (price = 1) and sell on day 5 (price = 6), profit = 6-1 = 5.\n",
    "Note that buying on day 2 and selling on day 1 is not allowed because you must buy before you sell.\n",
    "\n",
    "\n",
    "Example 2:\n",
    "\n",
    "Input: prices = [7,6,4,3,1]\n",
    "Output: 0\n",
    "Explanation: In this case, no transactions are done and the max profit = 0."
   ]
  },
  {
   "cell_type": "code",
   "execution_count": 43,
   "metadata": {},
   "outputs": [],
   "source": [
    "prices = [7,1,5,3,6,4]\n",
    "# prices = [7,6,4,3,1]"
   ]
  },
  {
   "cell_type": "code",
   "execution_count": 76,
   "metadata": {},
   "outputs": [
    {
     "data": {
      "text/plain": [
       "[5, 3, 0, 1, 0, 0]"
      ]
     },
     "execution_count": 76,
     "metadata": {},
     "output_type": "execute_result"
    }
   ],
   "source": [
    "profit = []\n",
    "while len(prices):\n",
    "    next_min = min(prices)\n",
    "    remaining = prices[prices.index(next_min)+1:]\n",
    "    if remaining == []:\n",
    "        profit.append(0)\n",
    "    else:\n",
    "        profit.append(max(remaining)-next_min)\n",
    "    prices.remove(next_min)\n",
    "profit"
   ]
  },
  {
   "cell_type": "code",
   "execution_count": null,
   "metadata": {},
   "outputs": [],
   "source": [
    "Time Limit Exceeded"
   ]
  },
  {
   "cell_type": "code",
   "execution_count": null,
   "metadata": {},
   "outputs": [],
   "source": []
  },
  {
   "cell_type": "code",
   "execution_count": 55,
   "metadata": {},
   "outputs": [
    {
     "data": {
      "text/plain": [
       "[4, 6, 3, 5, 1, 7]"
      ]
     },
     "execution_count": 55,
     "metadata": {},
     "output_type": "execute_result"
    }
   ],
   "source": [
    "prices = [7,1,5,3,6,4]\n",
    "# prices = [7,6,4,3,1]\n",
    "\n",
    "l = prices[::-1]\n",
    "l"
   ]
  },
  {
   "cell_type": "code",
   "execution_count": 75,
   "metadata": {},
   "outputs": [
    {
     "name": "stdout",
     "output_type": "stream",
     "text": [
      "3\n",
      "5\n"
     ]
    },
    {
     "data": {
      "text/plain": [
       "5"
      ]
     },
     "execution_count": 75,
     "metadata": {},
     "output_type": "execute_result"
    }
   ],
   "source": [
    "l = prices[::-1]\n",
    "\n",
    "max_ = l[0]\n",
    "max_profit = 0\n",
    "for i in range(1,len(l)):\n",
    "    if l[i] > max_:\n",
    "        max_ = l[i]\n",
    "    profit = max_ - l[i]\n",
    "    if profit > max_profit:\n",
    "        max_profit = profit\n",
    "max_profit"
   ]
  },
  {
   "cell_type": "code",
   "execution_count": null,
   "metadata": {},
   "outputs": [],
   "source": []
  },
  {
   "cell_type": "code",
   "execution_count": null,
   "metadata": {},
   "outputs": [],
   "source": []
  },
  {
   "cell_type": "markdown",
   "metadata": {},
   "source": [
    "### 122. Best Time to Buy and Sell Stock II"
   ]
  },
  {
   "cell_type": "raw",
   "metadata": {},
   "source": [
    "You are given an array prices where prices[i] is the price of a given stock on the ith day.\n",
    "\n",
    "Find the maximum profit you can achieve. You may complete as many transactions as you like (i.e., buy one and sell one share of the stock multiple times).\n",
    "\n",
    "Note: You may not engage in multiple transactions simultaneously (i.e., you must sell the stock before you buy again)."
   ]
  },
  {
   "cell_type": "raw",
   "metadata": {},
   "source": [
    "Example 1:\n",
    "\n",
    "Input: prices = [7,1,5,3,6,4]\n",
    "Output: 7\n",
    "Explanation: Buy on day 2 (price = 1) and sell on day 3 (price = 5), profit = 5-1 = 4.\n",
    "Then buy on day 4 (price = 3) and sell on day 5 (price = 6), profit = 6-3 = 3.\n",
    "\n",
    "\n",
    "Example 2:\n",
    "\n",
    "Input: prices = [1,2,3,4,5]\n",
    "Output: 4\n",
    "Explanation: Buy on day 1 (price = 1) and sell on day 5 (price = 5), profit = 5-1 = 4.\n",
    "Note that you cannot buy on day 1, buy on day 2 and sell them later, as you are engaging multiple transactions at the same time. You must sell before buying again.\n",
    "\n",
    "\n",
    "\n",
    "\n",
    "Example 3:\n",
    "\n",
    "Input: prices = [7,6,4,3,1]\n",
    "Output: 0\n",
    "Explanation: oIn this case, no transaction is done, i.e., max profit = 0."
   ]
  },
  {
   "cell_type": "code",
   "execution_count": 89,
   "metadata": {},
   "outputs": [
    {
     "data": {
      "text/plain": [
       "5"
      ]
     },
     "execution_count": 89,
     "metadata": {},
     "output_type": "execute_result"
    }
   ],
   "source": [
    "prices = [7,1,5,3,6,4]\n",
    "l = prices[::-1]\n",
    "\n",
    "def get_one(l):\n",
    "    max_ = l[0]\n",
    "    max_profit = 0\n",
    "    for i in range(1,len(l)):\n",
    "        if l[i] > max_:\n",
    "            max_ = l[i]\n",
    "        profit = max_ - l[i]\n",
    "        if profit > max_profit:\n",
    "            max_profit = profit\n",
    "    return max_profit\n",
    "        \n",
    "get_one(l)"
   ]
  },
  {
   "cell_type": "code",
   "execution_count": 92,
   "metadata": {},
   "outputs": [
    {
     "name": "stdout",
     "output_type": "stream",
     "text": [
      "0\n",
      "0\n",
      "4\n",
      "4\n",
      "5\n"
     ]
    }
   ],
   "source": [
    "for i in range(1,len(prices)):\n",
    "    l = prices[:i][::-1]\n",
    "    print(get_one(l))"
   ]
  },
  {
   "cell_type": "code",
   "execution_count": 93,
   "metadata": {},
   "outputs": [],
   "source": [
    "text s = \"book\""
   ]
  },
  {
   "cell_type": "code",
   "execution_count": 96,
   "metadata": {},
   "outputs": [
    {
     "data": {
      "text/plain": [
       "[0, 1, 1, 0]"
      ]
     },
     "execution_count": 96,
     "metadata": {},
     "output_type": "execute_result"
    }
   ],
   "source": [
    "vowels = [\"a\",\"e\",\"i\",\"o\",\"u\"]\n",
    "[1 if i in vowels else 0 for i in s]"
   ]
  },
  {
   "cell_type": "code",
   "execution_count": null,
   "metadata": {},
   "outputs": [],
   "source": []
  },
  {
   "cell_type": "code",
   "execution_count": null,
   "metadata": {},
   "outputs": [],
   "source": []
  },
  {
   "cell_type": "code",
   "execution_count": 87,
   "metadata": {},
   "outputs": [
    {
     "data": {
      "text/plain": [
       "[5, 3, 0, 1, 0, 0]"
      ]
     },
     "execution_count": 87,
     "metadata": {},
     "output_type": "execute_result"
    }
   ],
   "source": [
    "prices = [7,1,5,3,6,4]\n",
    "profit = []\n",
    "while len(prices):\n",
    "    next_min = min(prices)\n",
    "    remaining = prices[prices.index(next_min)+1:]\n",
    "    if remaining == []:\n",
    "        profit.append(0)\n",
    "    else:\n",
    "        profit.append(max(remaining)-next_min)\n",
    "    prices.remove(next_min)\n",
    "profit"
   ]
  },
  {
   "cell_type": "code",
   "execution_count": 97,
   "metadata": {},
   "outputs": [],
   "source": [
    "n=4"
   ]
  },
  {
   "cell_type": "code",
   "execution_count": 100,
   "metadata": {},
   "outputs": [
    {
     "data": {
      "text/plain": [
       "'aaab'"
      ]
     },
     "execution_count": 100,
     "metadata": {},
     "output_type": "execute_result"
    }
   ],
   "source": []
  },
  {
   "cell_type": "markdown",
   "metadata": {},
   "source": [
    "### 1758. Minimum Changes To Make Alternating Binary String"
   ]
  },
  {
   "cell_type": "raw",
   "metadata": {},
   "source": [
    "You are given a string s consisting only of the characters '0' and '1'. In one operation, you can change any '0' to '1' or vice versa.\n",
    "\n",
    "The string is called alternating if no two adjacent characters are equal. For example, the string \"010\" is alternating, while the string \"0100\" is not.\n",
    "\n",
    "Return the minimum number of operations needed to make s alternating."
   ]
  },
  {
   "cell_type": "raw",
   "metadata": {},
   "source": [
    "Example 1:\n",
    "\n",
    "Input: s = \"0100\"\n",
    "Output: 1\n",
    "Explanation: If you change the last character to '1', s will be \"0101\", which is alternating.\n",
    "\n",
    "    \n",
    "    \n",
    "Example 2:\n",
    "\n",
    "Input: s = \"10\"\n",
    "Output: 0\n",
    "Explanation: s is already alternating.\n",
    "\n",
    "    \n",
    "    \n",
    "Example 3:\n",
    "\n",
    "Input: s = \"1111\"\n",
    "Output: 2\n",
    "Explanation: You need two operations to reach \"0101\" or \"1010\"."
   ]
  },
  {
   "cell_type": "code",
   "execution_count": 101,
   "metadata": {},
   "outputs": [],
   "source": [
    "s = \"0100\""
   ]
  },
  {
   "cell_type": "code",
   "execution_count": 189,
   "metadata": {},
   "outputs": [],
   "source": [
    "s = \"110010\""
   ]
  },
  {
   "cell_type": "code",
   "execution_count": 190,
   "metadata": {},
   "outputs": [
    {
     "data": {
      "text/plain": [
       "1"
      ]
     },
     "execution_count": 190,
     "metadata": {},
     "output_type": "execute_result"
    }
   ],
   "source": [
    "len(s)//2 - max(s.count(\"01\"),s.count(\"10\"))"
   ]
  },
  {
   "cell_type": "code",
   "execution_count": 191,
   "metadata": {},
   "outputs": [],
   "source": [
    "a = \"01\"*(len(s)//2)+\"0\"*(len(s)%2)\n",
    "b = \"10\"*(len(s)//2)+\"1\"*(len(s)%2)"
   ]
  },
  {
   "cell_type": "code",
   "execution_count": 199,
   "metadata": {},
   "outputs": [
    {
     "data": {
      "text/plain": [
       "2"
      ]
     },
     "execution_count": 199,
     "metadata": {},
     "output_type": "execute_result"
    }
   ],
   "source": [
    "min(bin(int(s,base=2) ^ int(a,base=2))[2:].count(\"1\") , bin(int(s,base=2) ^ int(b,base=2))[2:].count(\"1\"))"
   ]
  },
  {
   "cell_type": "code",
   "execution_count": null,
   "metadata": {},
   "outputs": [],
   "source": []
  },
  {
   "cell_type": "code",
   "execution_count": null,
   "metadata": {},
   "outputs": [],
   "source": []
  },
  {
   "cell_type": "markdown",
   "metadata": {},
   "source": [
    "### Unknown"
   ]
  },
  {
   "cell_type": "code",
   "execution_count": 14,
   "metadata": {},
   "outputs": [],
   "source": [
    "\n",
    "path = \"NNSWWEWSSESSWENNW\"\n",
    "path = \"NESWW\""
   ]
  },
  {
   "cell_type": "code",
   "execution_count": 18,
   "metadata": {},
   "outputs": [
    {
     "name": "stdout",
     "output_type": "stream",
     "text": [
      "0 1\n",
      "1 1\n",
      "1 0\n",
      "0 0\n",
      "-1 0\n"
     ]
    },
    {
     "data": {
      "text/plain": [
       "True"
      ]
     },
     "execution_count": 18,
     "metadata": {},
     "output_type": "execute_result"
    }
   ],
   "source": [
    "x,y=0,0\n",
    "path_cord = [(0,0)]\n",
    "for i in range(len(path)):\n",
    "    if path[i] == \"N\":\n",
    "        y+=1\n",
    "    elif path[i] == \"S\":\n",
    "        y-=1\n",
    "    elif path[i] == \"E\":\n",
    "        x+=1\n",
    "    else:\n",
    "        x-=1\n",
    "    print(x,y)\n",
    "    path_cord.append((x,y))\n",
    "not len(path_cord) == len(list(set(path_cord)))"
   ]
  },
  {
   "cell_type": "code",
   "execution_count": null,
   "metadata": {},
   "outputs": [],
   "source": []
  },
  {
   "cell_type": "code",
   "execution_count": null,
   "metadata": {},
   "outputs": [],
   "source": []
  },
  {
   "cell_type": "code",
   "execution_count": null,
   "metadata": {},
   "outputs": [],
   "source": []
  },
  {
   "cell_type": "code",
   "execution_count": 19,
   "metadata": {},
   "outputs": [],
   "source": [
    "def rotate_no(n):\n",
    "    if n==0 or n==1 or n==8:\n",
    "        return n\n",
    "    if n==2:\n",
    "        return 5\n",
    "    if n==5:\n",
    "        return 2\n",
    "    if n==6:\n",
    "        return 9\n",
    "    if n==9:\n",
    "        return \n",
    "    return -1"
   ]
  },
  {
   "cell_type": "code",
   "execution_count": 25,
   "metadata": {},
   "outputs": [],
   "source": [
    "N=857"
   ]
  },
  {
   "cell_type": "code",
   "execution_count": 36,
   "metadata": {},
   "outputs": [
    {
     "data": {
      "text/plain": [
       "247"
      ]
     },
     "execution_count": 36,
     "metadata": {},
     "output_type": "execute_result"
    }
   ],
   "source": [
    "l = list(map(str,[i+1 for i in range(1,N-1)]))\n",
    "good_number = 0\n",
    "for number in l:\n",
    "    if len(set(\"2569\").intersection(set(number))) and not len(set(\"347\").intersection(set(number))):\n",
    "        good_number +=1\n",
    "good_number "
   ]
  },
  {
   "cell_type": "code",
   "execution_count": null,
   "metadata": {},
   "outputs": [],
   "source": []
  },
  {
   "cell_type": "markdown",
   "metadata": {},
   "source": [
    "### Ignore"
   ]
  },
  {
   "cell_type": "code",
   "execution_count": 15,
   "metadata": {},
   "outputs": [
    {
     "name": "stderr",
     "output_type": "stream",
     "text": [
      "In C:\\Users\\younu\\Anaconda3\\lib\\site-packages\\matplotlib\\mpl-data\\stylelib\\_classic_test.mplstyle: \n",
      "The text.latex.preview rcparam was deprecated in Matplotlib 3.3 and will be removed two minor releases later.\n",
      "In C:\\Users\\younu\\Anaconda3\\lib\\site-packages\\matplotlib\\mpl-data\\stylelib\\_classic_test.mplstyle: \n",
      "The mathtext.fallback_to_cm rcparam was deprecated in Matplotlib 3.3 and will be removed two minor releases later.\n",
      "In C:\\Users\\younu\\Anaconda3\\lib\\site-packages\\matplotlib\\mpl-data\\stylelib\\_classic_test.mplstyle: Support for setting the 'mathtext.fallback_to_cm' rcParam is deprecated since 3.3 and will be removed two minor releases later; use 'mathtext.fallback : 'cm' instead.\n",
      "In C:\\Users\\younu\\Anaconda3\\lib\\site-packages\\matplotlib\\mpl-data\\stylelib\\_classic_test.mplstyle: \n",
      "The validate_bool_maybe_none function was deprecated in Matplotlib 3.3 and will be removed two minor releases later.\n",
      "In C:\\Users\\younu\\Anaconda3\\lib\\site-packages\\matplotlib\\mpl-data\\stylelib\\_classic_test.mplstyle: \n",
      "The savefig.jpeg_quality rcparam was deprecated in Matplotlib 3.3 and will be removed two minor releases later.\n",
      "In C:\\Users\\younu\\Anaconda3\\lib\\site-packages\\matplotlib\\mpl-data\\stylelib\\_classic_test.mplstyle: \n",
      "The keymap.all_axes rcparam was deprecated in Matplotlib 3.3 and will be removed two minor releases later.\n",
      "In C:\\Users\\younu\\Anaconda3\\lib\\site-packages\\matplotlib\\mpl-data\\stylelib\\_classic_test.mplstyle: \n",
      "The animation.avconv_path rcparam was deprecated in Matplotlib 3.3 and will be removed two minor releases later.\n",
      "In C:\\Users\\younu\\Anaconda3\\lib\\site-packages\\matplotlib\\mpl-data\\stylelib\\_classic_test.mplstyle: \n",
      "The animation.avconv_args rcparam was deprecated in Matplotlib 3.3 and will be removed two minor releases later.\n"
     ]
    }
   ],
   "source": [
    "import pandas as pd\n",
    "import matplotlib.pyplot as plt"
   ]
  },
  {
   "cell_type": "code",
   "execution_count": 16,
   "metadata": {},
   "outputs": [
    {
     "data": {
      "text/html": [
       "<div>\n",
       "<style scoped>\n",
       "    .dataframe tbody tr th:only-of-type {\n",
       "        vertical-align: middle;\n",
       "    }\n",
       "\n",
       "    .dataframe tbody tr th {\n",
       "        vertical-align: top;\n",
       "    }\n",
       "\n",
       "    .dataframe thead th {\n",
       "        text-align: right;\n",
       "    }\n",
       "</style>\n",
       "<table border=\"1\" class=\"dataframe\">\n",
       "  <thead>\n",
       "    <tr style=\"text-align: right;\">\n",
       "      <th></th>\n",
       "      <th>Date</th>\n",
       "      <th>Open</th>\n",
       "      <th>High</th>\n",
       "      <th>Low</th>\n",
       "      <th>Close</th>\n",
       "      <th>Adj Close</th>\n",
       "      <th>Volume</th>\n",
       "    </tr>\n",
       "  </thead>\n",
       "  <tbody>\n",
       "    <tr>\n",
       "      <td>0</td>\n",
       "      <td>2010-03-08</td>\n",
       "      <td>381.500000</td>\n",
       "      <td>400.000000</td>\n",
       "      <td>380.000000</td>\n",
       "      <td>398.475006</td>\n",
       "      <td>321.529205</td>\n",
       "      <td>13770612</td>\n",
       "    </tr>\n",
       "    <tr>\n",
       "      <td>1</td>\n",
       "      <td>2010-03-15</td>\n",
       "      <td>398.475006</td>\n",
       "      <td>422.950012</td>\n",
       "      <td>395.575012</td>\n",
       "      <td>410.450012</td>\n",
       "      <td>331.191956</td>\n",
       "      <td>21759262</td>\n",
       "    </tr>\n",
       "    <tr>\n",
       "      <td>2</td>\n",
       "      <td>2010-03-22</td>\n",
       "      <td>407.450012</td>\n",
       "      <td>418.399994</td>\n",
       "      <td>403.075012</td>\n",
       "      <td>412.524994</td>\n",
       "      <td>332.866089</td>\n",
       "      <td>12520462</td>\n",
       "    </tr>\n",
       "    <tr>\n",
       "      <td>3</td>\n",
       "      <td>2010-03-29</td>\n",
       "      <td>412.000000</td>\n",
       "      <td>414.649994</td>\n",
       "      <td>388.649994</td>\n",
       "      <td>403.899994</td>\n",
       "      <td>325.906708</td>\n",
       "      <td>19404904</td>\n",
       "    </tr>\n",
       "    <tr>\n",
       "      <td>4</td>\n",
       "      <td>2010-04-05</td>\n",
       "      <td>408.500000</td>\n",
       "      <td>408.500000</td>\n",
       "      <td>390.575012</td>\n",
       "      <td>395.799988</td>\n",
       "      <td>319.370911</td>\n",
       "      <td>17241210</td>\n",
       "    </tr>\n",
       "    <tr>\n",
       "      <td>...</td>\n",
       "      <td>...</td>\n",
       "      <td>...</td>\n",
       "      <td>...</td>\n",
       "      <td>...</td>\n",
       "      <td>...</td>\n",
       "      <td>...</td>\n",
       "      <td>...</td>\n",
       "    </tr>\n",
       "    <tr>\n",
       "      <td>570</td>\n",
       "      <td>2021-02-08</td>\n",
       "      <td>3189.500000</td>\n",
       "      <td>3245.800049</td>\n",
       "      <td>3155.149902</td>\n",
       "      <td>3190.800049</td>\n",
       "      <td>3190.800049</td>\n",
       "      <td>11256612</td>\n",
       "    </tr>\n",
       "    <tr>\n",
       "      <td>571</td>\n",
       "      <td>2021-02-15</td>\n",
       "      <td>3209.000000</td>\n",
       "      <td>3209.000000</td>\n",
       "      <td>3016.149902</td>\n",
       "      <td>3071.850098</td>\n",
       "      <td>3071.850098</td>\n",
       "      <td>17659986</td>\n",
       "    </tr>\n",
       "    <tr>\n",
       "      <td>572</td>\n",
       "      <td>2021-02-22</td>\n",
       "      <td>3096.000000</td>\n",
       "      <td>3096.000000</td>\n",
       "      <td>2880.000000</td>\n",
       "      <td>2894.300049</td>\n",
       "      <td>2894.300049</td>\n",
       "      <td>22751300</td>\n",
       "    </tr>\n",
       "    <tr>\n",
       "      <td>573</td>\n",
       "      <td>2021-03-01</td>\n",
       "      <td>2926.000000</td>\n",
       "      <td>3081.449951</td>\n",
       "      <td>2901.800049</td>\n",
       "      <td>3008.050049</td>\n",
       "      <td>3008.050049</td>\n",
       "      <td>17202643</td>\n",
       "    </tr>\n",
       "    <tr>\n",
       "      <td>574</td>\n",
       "      <td>2021-03-08</td>\n",
       "      <td>3016.000000</td>\n",
       "      <td>3033.000000</td>\n",
       "      <td>2996.000000</td>\n",
       "      <td>3006.949951</td>\n",
       "      <td>3006.949951</td>\n",
       "      <td>2003125</td>\n",
       "    </tr>\n",
       "  </tbody>\n",
       "</table>\n",
       "<p>575 rows × 7 columns</p>\n",
       "</div>"
      ],
      "text/plain": [
       "           Date         Open         High          Low        Close  \\\n",
       "0    2010-03-08   381.500000   400.000000   380.000000   398.475006   \n",
       "1    2010-03-15   398.475006   422.950012   395.575012   410.450012   \n",
       "2    2010-03-22   407.450012   418.399994   403.075012   412.524994   \n",
       "3    2010-03-29   412.000000   414.649994   388.649994   403.899994   \n",
       "4    2010-04-05   408.500000   408.500000   390.575012   395.799988   \n",
       "..          ...          ...          ...          ...          ...   \n",
       "570  2021-02-08  3189.500000  3245.800049  3155.149902  3190.800049   \n",
       "571  2021-02-15  3209.000000  3209.000000  3016.149902  3071.850098   \n",
       "572  2021-02-22  3096.000000  3096.000000  2880.000000  2894.300049   \n",
       "573  2021-03-01  2926.000000  3081.449951  2901.800049  3008.050049   \n",
       "574  2021-03-08  3016.000000  3033.000000  2996.000000  3006.949951   \n",
       "\n",
       "       Adj Close    Volume  \n",
       "0     321.529205  13770612  \n",
       "1     331.191956  21759262  \n",
       "2     332.866089  12520462  \n",
       "3     325.906708  19404904  \n",
       "4     319.370911  17241210  \n",
       "..           ...       ...  \n",
       "570  3190.800049  11256612  \n",
       "571  3071.850098  17659986  \n",
       "572  2894.300049  22751300  \n",
       "573  3008.050049  17202643  \n",
       "574  3006.949951   2003125  \n",
       "\n",
       "[575 rows x 7 columns]"
      ]
     },
     "execution_count": 16,
     "metadata": {},
     "output_type": "execute_result"
    }
   ],
   "source": [
    "df = pd.read_csv(\"tcsstock.csv\")\n",
    "df"
   ]
  },
  {
   "cell_type": "code",
   "execution_count": 17,
   "metadata": {},
   "outputs": [],
   "source": [
    "x = df[\"Date\"]\n",
    "y = df[\"High\"]"
   ]
  },
  {
   "cell_type": "code",
   "execution_count": 18,
   "metadata": {},
   "outputs": [],
   "source": [
    "x = [(i+1)*10 for i in range(df.shape[0])]"
   ]
  },
  {
   "cell_type": "code",
   "execution_count": 19,
   "metadata": {},
   "outputs": [
    {
     "data": {
      "image/png": "[encoded data removed]",
      "text/plain": [
       "<Figure size 14400x720 with 1 Axes>"
      ]
     },
     "metadata": {
      "needs_background": "light"
     },
     "output_type": "display_data"
    }
   ],
   "source": [
    "plt.figure(figsize=(200,10))\n",
    "plt.plot(x,y)\n",
    "plt.xlabel(\"year\")\n",
    "plt.ylabel(\"10 year stock proces\")\n",
    "plt.xticks(rotation='vertical')\n",
    "plt.show()"
   ]
  },
  {
   "cell_type": "code",
   "execution_count": null,
   "metadata": {},
   "outputs": [],
   "source": [
    "\n"
   ]
  },
  {
   "cell_type": "markdown",
   "metadata": {},
   "source": [
    "### 925. Long Pressed Name"
   ]
  },
  {
   "cell_type": "raw",
   "metadata": {},
   "source": [
    "Your friend is typing his name into a keyboard. Sometimes, when typing a character c, the key might get long pressed, and the character will be typed 1 or more times.\n",
    "\n",
    "You examine the typed characters of the keyboard. Return True if it is possible that it was your friends name, with some characters (possibly none) being long pressed."
   ]
  },
  {
   "cell_type": "raw",
   "metadata": {},
   "source": [
    "Example 1:\n",
    "\n",
    "Input: name = \"alex\", typed = \"aaleex\"\n",
    "Output: true\n",
    "Explanation: 'a' and 'e' in 'alex' were long pressed.\n",
    "\n",
    "\n",
    "\n",
    "Example 2:\n",
    "\n",
    "Input: name = \"saeed\", typed = \"ssaaedd\"\n",
    "Output: false\n",
    "Explanation: 'e' must have been pressed twice, but it wasn't in the typed output.\n",
    "\n",
    "\n",
    "\n",
    "\n",
    "Example 3:\n",
    "\n",
    "Input: name = \"leelee\", typed = \"lleeelee\"\n",
    "Output: true\n",
    "\n",
    "\n",
    "\n",
    "\n",
    "Example 4:\n",
    "\n",
    "Input: name = \"laiden\", typed = \"laiden\"\n",
    "Output: true\n",
    "Explanation: It's not necessary to long press any character."
   ]
  },
  {
   "cell_type": "code",
   "execution_count": 11,
   "metadata": {},
   "outputs": [],
   "source": [
    "name = \"alex\"\n",
    "typed = \"aaleex\"\n",
    "\n",
    "name  = list(name)\n",
    "typed = list(typed)"
   ]
  },
  {
   "cell_type": "raw",
   "metadata": {},
   "source": [
    "aaleex\n",
    "alex\n",
    "\n",
    "current ele"
   ]
  },
  {
   "cell_type": "code",
   "execution_count": 12,
   "metadata": {},
   "outputs": [
    {
     "data": {
      "text/plain": [
       "True"
      ]
     },
     "execution_count": 12,
     "metadata": {},
     "output_type": "execute_result"
    }
   ],
   "source": [
    "def do():\n",
    "    while len(name):\n",
    "        n_c,t_c = 0,0\n",
    "        current_ele = name.pop(0)\n",
    "        n_c+=1\n",
    "\n",
    "        while len(name) and current_ele == name[0]:\n",
    "            name.pop(0)\n",
    "            n_c+=1\n",
    "        while len(typed) and current_ele == typed[0]:\n",
    "            typed.pop(0)\n",
    "            t_c+=1\n",
    "        if n_c > t_c:\n",
    "            return False\n",
    "    return True  \n",
    "do()"
   ]
  },
  {
   "cell_type": "raw",
   "metadata": {},
   "source": [
    "class Solution:\n",
    "    def isLongPressedName(self, name: str, typed: str) -> bool:\n",
    "        \n",
    "        if len(name) > len(typed):\n",
    "            return False\n",
    "        \n",
    "        name  = list(name)\n",
    "        typed = list(typed)\n",
    "        \n",
    "        while len(name):\n",
    "            n_c,t_c = 0,0\n",
    "            current_ele = name.pop(0)\n",
    "            n_c+=1\n",
    "            \n",
    "            while len(name) and current_ele == name[0]:\n",
    "                name.pop(0)\n",
    "                n_c+=1\n",
    "            while len(typed) and current_ele == typed[0]:\n",
    "                typed.pop(0)\n",
    "                t_c+=1\n",
    "            \n",
    "            if n_c > t_c:\n",
    "                return False\n",
    "            \n",
    "        if len(typed):\n",
    "            return False\n",
    "        return True  "
   ]
  },
  {
   "cell_type": "code",
   "execution_count": null,
   "metadata": {},
   "outputs": [],
   "source": []
  },
  {
   "cell_type": "code",
   "execution_count": null,
   "metadata": {},
   "outputs": [],
   "source": []
  },
  {
   "cell_type": "markdown",
   "metadata": {},
   "source": [
    "### 680. Valid Palindrome II"
   ]
  },
  {
   "cell_type": "raw",
   "metadata": {},
   "source": [
    "Given a non-empty string s, you may delete at most one character. Judge whether you can make it a palindrome."
   ]
  },
  {
   "cell_type": "raw",
   "metadata": {},
   "source": [
    "Example 1:\n",
    "Input: \"aba\"\n",
    "Output: True\n",
    "    \n",
    "    \n",
    "Example 2:\n",
    "Input: \"abca\"\n",
    "Output: True\n",
    "Explanation: You could delete the character 'c'."
   ]
  },
  {
   "cell_type": "code",
   "execution_count": 54,
   "metadata": {},
   "outputs": [
    {
     "name": "stdout",
     "output_type": "stream",
     "text": [
      "abca\n"
     ]
    }
   ],
   "source": [
    "s = \"abca\"\n",
    "print(s)"
   ]
  },
  {
   "cell_type": "code",
   "execution_count": 55,
   "metadata": {},
   "outputs": [],
   "source": [
    "# def do(s):\n",
    "#     s = list(s)\n",
    "#     s_rev = s[::-1]\n",
    "#     flag = 0\n",
    "#     while len(s):\n",
    "#         if s[0] != s_rev[0]:\n",
    "#             if flag == 0:\n",
    "#                 flag =1\n",
    "#             else:\n",
    "#                 return False\n",
    "        \n",
    "#     return True\n",
    "\n",
    "# do(s)"
   ]
  },
  {
   "cell_type": "code",
   "execution_count": 52,
   "metadata": {},
   "outputs": [],
   "source": [
    "\n"
   ]
  },
  {
   "cell_type": "code",
   "execution_count": 84,
   "metadata": {},
   "outputs": [
    {
     "name": "stdout",
     "output_type": "stream",
     "text": [
      "abc\n",
      "0\n",
      "flag 0\n",
      "0\n",
      "flag 1\n",
      "cba\n",
      "0\n",
      "flag 0\n",
      "0\n",
      "flag 1\n"
     ]
    },
    {
     "data": {
      "text/plain": [
       "False"
      ]
     },
     "execution_count": 84,
     "metadata": {},
     "output_type": "execute_result"
    }
   ],
   "source": [
    "s = \"abc\"\n",
    "\n",
    "def do(s):\n",
    "    print(s)\n",
    "    i = 0\n",
    "    flag=0\n",
    "    while i<=len(s)//2 and flag<2:\n",
    "        print(i)\n",
    "        print(\"flag\",flag)\n",
    "        left_pointer  = s[i]\n",
    "        right_pointer = s[len(s)-1-i]\n",
    "\n",
    "        if left_pointer == right_pointer:\n",
    "            i+=1\n",
    "        else:\n",
    "            flag+=1\n",
    "            s = s[:i]+s[i+1:]\n",
    "\n",
    "    if flag<2:\n",
    "        return True\n",
    "    return False\n",
    "\n",
    "do(s) or do(s[::-1])"
   ]
  },
  {
   "cell_type": "markdown",
   "metadata": {},
   "source": [
    "### 1414. Find the Minimum Number of Fibonacci Numbers Whose Sum Is K"
   ]
  },
  {
   "cell_type": "raw",
   "metadata": {},
   "source": [
    "Given an integer k, return the minimum number of Fibonacci numbers whose sum is equal to k. The same Fibonacci number can be used multiple times.\n",
    "\n",
    "The Fibonacci numbers are defined as:\n",
    "\n",
    "F1 = 1\n",
    "F2 = 1\n",
    "Fn = Fn-1 + Fn-2 for n > 2.\n",
    "It is guaranteed that for the given constraints we can always find such Fibonacci numbers that sum up to k."
   ]
  },
  {
   "cell_type": "raw",
   "metadata": {},
   "source": [
    "Example 1:\n",
    "\n",
    "Input: k = 7\n",
    "Output: 2 \n",
    "Explanation: The Fibonacci numbers are: 1, 1, 2, 3, 5, 8, 13, ... \n",
    "For k = 7 we can use 2 + 5 = 7.\n",
    "\n",
    "\n",
    "Example 2:\n",
    "\n",
    "Input: k = 10\n",
    "Output: 2 \n",
    "Explanation: For k = 10 we can use 2 + 8 = 10.\n",
    "\n",
    "\n",
    "\n",
    "Example 3:\n",
    "\n",
    "Input: k = 19\n",
    "Output: 3 \n",
    "Explanation: For k = 19 we can use 1 + 5 + 13 = 19."
   ]
  },
  {
   "cell_type": "code",
   "execution_count": 117,
   "metadata": {},
   "outputs": [],
   "source": [
    "def modified_fibo(n):\n",
    "    if n == 1:\n",
    "        return [1]\n",
    "    a,b = 0,1\n",
    "    l=[a,b]\n",
    "    c = a+b\n",
    "    while c<=n:\n",
    "        l.append(c)\n",
    "        a = b\n",
    "        b = c\n",
    "        c = a+b\n",
    "    return l[::-1]\n",
    "        \n",
    "        "
   ]
  },
  {
   "cell_type": "code",
   "execution_count": 120,
   "metadata": {},
   "outputs": [],
   "source": [
    "def main(k):\n",
    "    if k == 0:\n",
    "        return 0\n",
    "    l = modified_fibo(k)\n",
    "    sum_,count = 0,0\n",
    "    for i in range(len(l)):\n",
    "        if sum_ == k:\n",
    "            break\n",
    "        if sum_ + l[i] > k:\n",
    "            continue\n",
    "        sum_ += l[i]\n",
    "        count+=1\n",
    "    return count\n"
   ]
  },
  {
   "cell_type": "code",
   "execution_count": null,
   "metadata": {},
   "outputs": [],
   "source": []
  },
  {
   "cell_type": "markdown",
   "metadata": {},
   "source": [
    "### 1338. Reduce Array Size to The Half"
   ]
  },
  {
   "cell_type": "raw",
   "metadata": {},
   "source": [
    "Given an array arr.  You can choose a set of integers and remove all the occurrences of these integers in the array.\n",
    "\n",
    "Return the minimum size of the set so that at least half of the integers of the array are removed."
   ]
  },
  {
   "cell_type": "raw",
   "metadata": {},
   "source": [
    "Example 1:\n",
    "\n",
    "Input: arr = [3,3,3,3,5,5,5,2,2,7]\n",
    "Output: 2\n",
    "Explanation: Choosing {3,7} will make the new array [5,5,5,2,2] which has size 5 (i.e equal to half of the size of the old array).\n",
    "Possible sets of size 2 are {3,5},{3,2},{5,2}.\n",
    "Choosing set {2,7} is not possible as it will make the new array [3,3,3,3,5,5,5] which has size greater than half of the size of the old array.\n",
    "\n",
    "\n",
    "\n",
    "\n",
    "Example 2:\n",
    "\n",
    "Input: arr = [7,7,7,7,7,7]\n",
    "Output: 1\n",
    "Explanation: The only possible set you can choose is {7}. This will make the new array empty.\n",
    "\n",
    "\n",
    "\n",
    "\n",
    "\n",
    "Example 3:\n",
    "\n",
    "Input: arr = [1,9]\n",
    "Output: 1\n",
    "\n",
    "\n",
    "\n",
    "\n",
    "Example 4:\n",
    "\n",
    "Input: arr = [1000,1000,3,7]\n",
    "Output: 1\n",
    "\n",
    "\n",
    "\n",
    "Example 5:\n",
    "\n",
    "Input: arr = [1,2,3,4,5,6,7,8,9,10]\n",
    "Output: 5"
   ]
  },
  {
   "cell_type": "code",
   "execution_count": 156,
   "metadata": {},
   "outputs": [],
   "source": [
    "arr = [3,3,3,3,5,5,5,2,2,7]\n",
    "# arr = [1,2,3,4,5,6,7,8,9,10]\n",
    "arr = [1000,1000,3,7]"
   ]
  },
  {
   "cell_type": "code",
   "execution_count": 157,
   "metadata": {},
   "outputs": [],
   "source": [
    "import collections"
   ]
  },
  {
   "cell_type": "code",
   "execution_count": 158,
   "metadata": {},
   "outputs": [
    {
     "data": {
      "text/plain": [
       "[2, 1, 1]"
      ]
     },
     "execution_count": 158,
     "metadata": {},
     "output_type": "execute_result"
    }
   ],
   "source": [
    "l = sorted([value for key,value in collections.Counter(arr).items()] , reverse = True)\n",
    "l"
   ]
  },
  {
   "cell_type": "code",
   "execution_count": 159,
   "metadata": {},
   "outputs": [
    {
     "data": {
      "text/plain": [
       "1"
      ]
     },
     "execution_count": 159,
     "metadata": {},
     "output_type": "execute_result"
    }
   ],
   "source": [
    "l = sorted([value for key,value in collections.Counter(arr).items()] , reverse = True)\n",
    "sum_, count = 0, 0\n",
    "while sum_ < len(arr)//2:\n",
    "    sum_+=l.pop(0)\n",
    "    count+=1\n",
    "count\n"
   ]
  },
  {
   "cell_type": "markdown",
   "metadata": {},
   "source": [
    "### 500. Keyboard Row"
   ]
  },
  {
   "cell_type": "raw",
   "metadata": {},
   "source": [
    "Given an array of strings words, return the words that can be typed using letters of the alphabet on only one row of American keyboard like the image below.\n",
    "\n",
    "In the American keyboard:\n",
    "\n",
    "the first row consists of the characters \"qwertyuiop\",\n",
    "the second row consists of the characters \"asdfghjkl\", and\n",
    "the third row consists of the characters \"zxcvbnm\"."
   ]
  },
  {
   "cell_type": "raw",
   "metadata": {},
   "source": [
    "Example 1:\n",
    "\n",
    "Input: words = [\"Hello\",\"Alaska\",\"Dad\",\"Peace\"]\n",
    "Output: [\"Alaska\",\"Dad\"]\n",
    "    \n",
    "    \n",
    "    \n",
    "Example 2:\n",
    "\n",
    "Input: words = [\"omk\"]\n",
    "Output: []\n",
    "    \n",
    "    \n",
    "    \n",
    "    \n",
    "Example 3:\n",
    "\n",
    "Input: words = [\"adsdf\",\"sfd\"]\n",
    "Output: [\"adsdf\",\"sfd\"]\n",
    " \n",
    "\n",
    "Constraints:\n",
    "\n",
    "1 <= words.length <= 20\n",
    "1 <= words[i].length <= 100\n",
    "words[i] consists of English letters (both lowercase and uppercase). "
   ]
  },
  {
   "cell_type": "code",
   "execution_count": 183,
   "metadata": {},
   "outputs": [],
   "source": [
    "def get_row(letter):\n",
    "    \n",
    "    letter = letter.lower()\n",
    "    \n",
    "    row1 = [\"q\",\"w\",\"e\",\"r\",\"t\",\"y\",\"u\",\"i\",\"o\",\"p\"]\n",
    "    row2 = [\"a\",\"s\",\"d\",\"f\",\"g\",\"h\",\"j\",\"k\",\"l\"]\n",
    "    row3 = [\"z\",\"x\",\"c\",\"v\",\"b\",\"n\",\"m\"]\n",
    "    \n",
    "    if letter in row1:\n",
    "        return 1\n",
    "    elif letter in row2:\n",
    "        return 2\n",
    "    return 3"
   ]
  },
  {
   "cell_type": "code",
   "execution_count": 186,
   "metadata": {},
   "outputs": [],
   "source": [
    "words = [\"adsdf\",\"sfd\"]\n",
    "words = [\"Hello\",\"Alaska\",\"Dad\",\"Peace\"] "
   ]
  },
  {
   "cell_type": "code",
   "execution_count": 187,
   "metadata": {},
   "outputs": [
    {
     "data": {
      "text/plain": [
       "['Alaska', 'Dad']"
      ]
     },
     "execution_count": 187,
     "metadata": {},
     "output_type": "execute_result"
    }
   ],
   "source": [
    "output = []\n",
    "for word in words:\n",
    "    row = get_row(word[0])\n",
    "    for i in range(1,len(word)):\n",
    "        if row != get_row(word[i]):\n",
    "            break\n",
    "    else:\n",
    "        output.append(word)\n",
    "output"
   ]
  },
  {
   "cell_type": "raw",
   "metadata": {},
   "source": [
    "def get_row(letter):\n",
    "    \n",
    "    letter = letter.lower()\n",
    "    \n",
    "    row1 = [\"q\",\"w\",\"e\",\"r\",\"t\",\"y\",\"u\",\"i\",\"o\",\"p\"]\n",
    "    row2 = [\"a\",\"s\",\"d\",\"f\",\"g\",\"h\",\"j\",\"k\",\"l\"]\n",
    "    row3 = [\"z\",\"x\",\"c\",\"v\",\"b\",\"n\",\"m\"]\n",
    "    \n",
    "    if letter in row1:\n",
    "        return 1\n",
    "    elif letter in row2:\n",
    "        return 2\n",
    "    return 3\n",
    "\n",
    "class Solution:\n",
    "    def findWords(self, words: List[str]) -> List[str]:\n",
    "\n",
    "        output = []\n",
    "        for word in words:\n",
    "            row = get_row(word[0])\n",
    "            for i in range(1,len(word)):\n",
    "                if row != get_row(word[i]):\n",
    "                    break\n",
    "            else:\n",
    "                output.append(word)\n",
    "        return output\n",
    "        \n",
    "        "
   ]
  },
  {
   "cell_type": "code",
   "execution_count": null,
   "metadata": {},
   "outputs": [],
   "source": []
  },
  {
   "cell_type": "markdown",
   "metadata": {},
   "source": [
    "### 1078. Occurrences After Bigram"
   ]
  },
  {
   "cell_type": "raw",
   "metadata": {},
   "source": [
    "Given words first and second, consider occurrences in some text of the form \"first second third\", where second comes immediately after first, and third comes immediately after second.\n",
    "\n",
    "For each such occurrence, add \"third\" to the answer, and return the answer."
   ]
  },
  {
   "cell_type": "raw",
   "metadata": {},
   "source": [
    "Example 1:\n",
    "\n",
    "Input: text = \"alice is a good girl she is a good student\", first = \"a\", second = \"good\"\n",
    "Output: [\"girl\",\"student\"]\n",
    "    \n",
    "    \n",
    "    \n",
    "Example 2:\n",
    "\n",
    "Input: text = \"we will we will rock you\", first = \"we\", second = \"will\"\n",
    "Output: [\"we\",\"rock\"]"
   ]
  },
  {
   "cell_type": "code",
   "execution_count": 246,
   "metadata": {},
   "outputs": [],
   "source": [
    "text = \"alice is a good girl she is a good student\"\n",
    "first = \"a\"\n",
    "second = \"good\""
   ]
  },
  {
   "cell_type": "code",
   "execution_count": 247,
   "metadata": {},
   "outputs": [
    {
     "name": "stdout",
     "output_type": "stream",
     "text": [
      "['alice', 'is', 'a', 'good', 'girl', 'she', 'is', 'a', 'good', 'student']\n",
      "girl\n"
     ]
    }
   ],
   "source": [
    "text = text.split()\n",
    "print(text)\n",
    "for i in range(len(text)-3):\n",
    "    if text[i]==first and text[i+1]==second:\n",
    "        print(text[i+2])"
   ]
  },
  {
   "cell_type": "code",
   "execution_count": null,
   "metadata": {},
   "outputs": [],
   "source": []
  },
  {
   "cell_type": "code",
   "execution_count": null,
   "metadata": {},
   "outputs": [],
   "source": []
  },
  {
   "cell_type": "markdown",
   "metadata": {},
   "source": [
    "### 592. Fraction Addition and Subtraction"
   ]
  },
  {
   "cell_type": "code",
   "execution_count": 1,
   "metadata": {},
   "outputs": [],
   "source": [
    "from fractions import Fraction"
   ]
  },
  {
   "cell_type": "raw",
   "metadata": {},
   "source": [
    "Given a string representing an expression of fraction addition and subtraction, you need to return the calculation result in string format. The final result should be irreducible fraction. If your final result is an integer, say 2, you need to change it to the format of fraction that has denominator 1. So in this case, 2 should be converted to 2/1."
   ]
  },
  {
   "cell_type": "raw",
   "metadata": {},
   "source": [
    "Example 1:\n",
    "Input:\"-1/2+1/2\"\n",
    "Output: \"0/1\"\n",
    "    \n",
    "    \n",
    "Example 2:\n",
    "Input:\"-1/2+1/2+1/3\"\n",
    "Output: \"1/3\"\n",
    "    \n",
    "    \n",
    "Example 3:\n",
    "Input:\"1/3-1/2\"\n",
    "Output: \"-1/6\"\n",
    "    \n",
    "    \n",
    "Example 4:\n",
    "Input:\"5/3+1/3\"\n",
    "Output: \"2/1\""
   ]
  },
  {
   "cell_type": "code",
   "execution_count": 4,
   "metadata": {},
   "outputs": [
    {
     "name": "stdout",
     "output_type": "stream",
     "text": [
      "-1/4\n"
     ]
    }
   ],
   "source": [
    "print(Fraction(-0.25))"
   ]
  },
  {
   "cell_type": "code",
   "execution_count": 30,
   "metadata": {},
   "outputs": [],
   "source": [
    "expression = \"5/3+1/3\""
   ]
  },
  {
   "cell_type": "code",
   "execution_count": 34,
   "metadata": {},
   "outputs": [
    {
     "data": {
      "text/plain": [
       "'2'"
      ]
     },
     "execution_count": 34,
     "metadata": {},
     "output_type": "execute_result"
    }
   ],
   "source": [
    "\n",
    "ans"
   ]
  },
  {
   "cell_type": "code",
   "execution_count": 38,
   "metadata": {},
   "outputs": [],
   "source": [
    "if ans.find(\"/\")==-1:\n",
    "    ans+=\"/1\"\n",
    "ans = \"\""
   ]
  },
  {
   "cell_type": "code",
   "execution_count": 39,
   "metadata": {},
   "outputs": [
    {
     "data": {
      "text/plain": [
       "-1"
      ]
     },
     "execution_count": 39,
     "metadata": {},
     "output_type": "execute_result"
    }
   ],
   "source": [
    "ans.find(\"/\")"
   ]
  },
  {
   "cell_type": "code",
   "execution_count": 40,
   "metadata": {},
   "outputs": [],
   "source": [
    "from fractions import Fraction\n",
    "expression = \"5/3+1/3\"\n",
    "\n",
    "if ans.find(\"/\")==-1:\n",
    "    ans+=\"/1\""
   ]
  },
  {
   "cell_type": "code",
   "execution_count": null,
   "metadata": {},
   "outputs": [],
   "source": []
  },
  {
   "cell_type": "code",
   "execution_count": 41,
   "metadata": {},
   "outputs": [],
   "source": [
    "expression = \"-1/2+1/2+1/3\""
   ]
  },
  {
   "cell_type": "code",
   "execution_count": 2,
   "metadata": {},
   "outputs": [],
   "source": [
    "import re"
   ]
  },
  {
   "cell_type": "code",
   "execution_count": 42,
   "metadata": {},
   "outputs": [
    {
     "data": {
      "text/plain": [
       "['', '1/2', '1/2', '1/3']"
      ]
     },
     "execution_count": 42,
     "metadata": {},
     "output_type": "execute_result"
    }
   ],
   "source": [
    "delimiters = \"+\", \"-\"\n",
    "regexPattern = '|'.join(map(re.escape, delimiters))\n",
    "l = re.split(regexPattern, expression)\n",
    "l"
   ]
  },
  {
   "cell_type": "code",
   "execution_count": 43,
   "metadata": {},
   "outputs": [
    {
     "data": {
      "text/plain": [
       "['-1/2', '1/2', '1/3']"
      ]
     },
     "execution_count": 43,
     "metadata": {},
     "output_type": "execute_result"
    }
   ],
   "source": [
    "for i in range(len(l)-1):\n",
    "    if l[i] == '':\n",
    "        l[i+1] = \"-\"+l[i+1]\n",
    "while l.count(''):\n",
    "    l.remove('')\n",
    "l"
   ]
  },
  {
   "cell_type": "code",
   "execution_count": 44,
   "metadata": {},
   "outputs": [],
   "source": [
    "numerator = []\n",
    "denominator = []\n",
    "for i in range(len(l)):\n",
    "    num ,den = l[i].split(\"/\")\n",
    "    numerator.append(int(num))\n",
    "    denominator.append(int(den))"
   ]
  },
  {
   "cell_type": "code",
   "execution_count": 6,
   "metadata": {},
   "outputs": [
    {
     "data": {
      "text/plain": [
       "[-1, 1, 1]"
      ]
     },
     "execution_count": 6,
     "metadata": {},
     "output_type": "execute_result"
    }
   ],
   "source": [
    "numerator"
   ]
  },
  {
   "cell_type": "code",
   "execution_count": 7,
   "metadata": {},
   "outputs": [
    {
     "data": {
      "text/plain": [
       "[2, 2, 3]"
      ]
     },
     "execution_count": 7,
     "metadata": {},
     "output_type": "execute_result"
    }
   ],
   "source": [
    "denominator"
   ]
  },
  {
   "cell_type": "code",
   "execution_count": 8,
   "metadata": {},
   "outputs": [
    {
     "name": "stdout",
     "output_type": "stream",
     "text": [
      "6\n"
     ]
    }
   ],
   "source": [
    "from math import gcd\n",
    "lcm = denominator[0]\n",
    "for i in denominator[1:]:\n",
    "    lcm = lcm*i//gcd(lcm, i)\n",
    "print(lcm)"
   ]
  },
  {
   "cell_type": "code",
   "execution_count": 9,
   "metadata": {},
   "outputs": [
    {
     "data": {
      "text/plain": [
       "2"
      ]
     },
     "execution_count": 9,
     "metadata": {},
     "output_type": "execute_result"
    }
   ],
   "source": [
    "num = sum([lcm//denominator[i]*numerator[i] for i in range(len(denominator))])\n",
    "num"
   ]
  },
  {
   "cell_type": "code",
   "execution_count": 10,
   "metadata": {},
   "outputs": [],
   "source": [
    "def factors(n):\n",
    "    factors = []\n",
    "    i = 2\n",
    "    while n!=1:\n",
    "        if n%i == 0:\n",
    "            factors.append(i)\n",
    "            n = n//i\n",
    "        else:\n",
    "            i+=1 \n",
    "    return factors"
   ]
  },
  {
   "cell_type": "code",
   "execution_count": 17,
   "metadata": {},
   "outputs": [],
   "source": [
    "num = factors(num)"
   ]
  },
  {
   "cell_type": "code",
   "execution_count": 18,
   "metadata": {},
   "outputs": [],
   "source": [
    "lcm = factors(lcm)"
   ]
  },
  {
   "cell_type": "code",
   "execution_count": 19,
   "metadata": {},
   "outputs": [],
   "source": [
    "for factor in num:\n",
    "    if factor in lcm:\n",
    "        num.remove(factor)\n",
    "        lcm.remove(factor)"
   ]
  },
  {
   "cell_type": "code",
   "execution_count": 20,
   "metadata": {},
   "outputs": [],
   "source": [
    "if num == []:\n",
    "    num = 1\n",
    "else:\n",
    "    num = sum(num)\n",
    "    \n",
    "if lcm == []:\n",
    "    lcm = 1\n",
    "else:\n",
    "    lcm = sum(lcm)"
   ]
  },
  {
   "cell_type": "code",
   "execution_count": 21,
   "metadata": {},
   "outputs": [
    {
     "data": {
      "text/plain": [
       "'1/3'"
      ]
     },
     "execution_count": 21,
     "metadata": {},
     "output_type": "execute_result"
    }
   ],
   "source": [
    "str(num)+\"/\"+str(lcm)"
   ]
  },
  {
   "cell_type": "code",
   "execution_count": 45,
   "metadata": {},
   "outputs": [],
   "source": [
    "def main(expression):\n",
    "    print(expression)\n",
    "    import re\n",
    "    from math import gcd\n",
    "    \n",
    "    delimiters = \"+\", \"-\"\n",
    "    regexPattern = '|'.join(map(re.escape, delimiters))\n",
    "    l = re.split(regexPattern, expression)\n",
    "    print(l)\n",
    "    \n",
    "    for i in range(len(l)-1):\n",
    "        if l[i] == '':\n",
    "            l[i+1] = \"-\"+l[i+1]\n",
    "    while l.count(''):\n",
    "        l.remove('')\n",
    "    l\n",
    "    print(l)\n",
    "    \n",
    "    numerator = []\n",
    "    denominator = []\n",
    "    for i in range(len(l)):\n",
    "        num ,den = l[i].split(\"/\")\n",
    "        numerator.append(int(num))\n",
    "        denominator.append(int(den))\n",
    "    \n",
    "    print(numerator)\n",
    "    print(denominator)\n",
    "    \n",
    "    lcm = denominator[0]\n",
    "    for i in denominator[1:]:\n",
    "        lcm = lcm*i//gcd(lcm, i)\n",
    "    \n",
    "    num = sum([lcm//denominator[i]*numerator[i] for i in range(len(denominator))])\n",
    "    \n",
    "    num = factors(num)\n",
    "    lcm = factors(lcm)\n",
    "    \n",
    "    for factor in num:\n",
    "        if factor in lcm:\n",
    "            num.remove(factor)\n",
    "            lcm.remove(factor)\n",
    "\n",
    "    if num == []:\n",
    "        num = 1\n",
    "    else:\n",
    "        num = sum(num)\n",
    "\n",
    "    if lcm == []:\n",
    "        lcm = 1\n",
    "    else:\n",
    "        lcm = sum(lcm)\n",
    "        \n",
    "    return str(num)+\"/\"+str(lcm)"
   ]
  },
  {
   "cell_type": "raw",
   "metadata": {},
   "source": [
    "Input:\"-1/2+1/2\"\n",
    "Output: \"0/1\"\n",
    "\n",
    "Input:\"-1/2+1/2+1/3\"\n",
    "Output: \"1/3\"\n",
    "\n",
    "Input:\"1/3-1/2\"\n",
    "Output: \"-1/6\"\n",
    "\n",
    "Input:\"5/3+1/3\"\n",
    "Output: \"2/1\""
   ]
  },
  {
   "cell_type": "code",
   "execution_count": null,
   "metadata": {},
   "outputs": [
    {
     "name": "stdout",
     "output_type": "stream",
     "text": [
      "-1/2+1/2\n",
      "['', '1/2', '1/2']\n",
      "['-1/2', '1/2']\n",
      "[-1, 1]\n",
      "[2, 2]\n"
     ]
    }
   ],
   "source": [
    "expression = \"-1/2+1/2\"\n",
    "main(expression)"
   ]
  },
  {
   "cell_type": "code",
   "execution_count": null,
   "metadata": {},
   "outputs": [],
   "source": [
    "expression = \"-1/2+1/2+1/3\"\n",
    "main(expression)"
   ]
  },
  {
   "cell_type": "code",
   "execution_count": 37,
   "metadata": {},
   "outputs": [
    {
     "name": "stdout",
     "output_type": "stream",
     "text": [
      "1/3-1/2\n"
     ]
    },
    {
     "data": {
      "text/plain": [
       "'1/3'"
      ]
     },
     "execution_count": 37,
     "metadata": {},
     "output_type": "execute_result"
    }
   ],
   "source": [
    "expression = \"1/3-1/2\"\n",
    "main(expression)"
   ]
  },
  {
   "cell_type": "code",
   "execution_count": 38,
   "metadata": {},
   "outputs": [
    {
     "name": "stdout",
     "output_type": "stream",
     "text": [
      "5/3+1/3\n"
     ]
    },
    {
     "data": {
      "text/plain": [
       "'1/3'"
      ]
     },
     "execution_count": 38,
     "metadata": {},
     "output_type": "execute_result"
    }
   ],
   "source": [
    "expression = \"5/3+1/3\"\n",
    "main(expression)"
   ]
  },
  {
   "cell_type": "code",
   "execution_count": null,
   "metadata": {},
   "outputs": [],
   "source": []
  },
  {
   "cell_type": "code",
   "execution_count": null,
   "metadata": {},
   "outputs": [],
   "source": []
  },
  {
   "cell_type": "code",
   "execution_count": null,
   "metadata": {},
   "outputs": [],
   "source": []
  },
  {
   "cell_type": "code",
   "execution_count": 201,
   "metadata": {},
   "outputs": [
    {
     "name": "stdout",
     "output_type": "stream",
     "text": [
      "0 3333333333333333\n"
     ]
    }
   ],
   "source": [
    "a ,b = str(float(eval(expression))).split(\".\")\n",
    "print(a,b)\n",
    "ans = str(Fraction(eval(a+\".\"+b[:2])))"
   ]
  },
  {
   "cell_type": "code",
   "execution_count": 66,
   "metadata": {},
   "outputs": [
    {
     "data": {
      "text/plain": [
       "'5944751508129055/18014398509481984'"
      ]
     },
     "execution_count": 66,
     "metadata": {},
     "output_type": "execute_result"
    }
   ],
   "source": [
    "if ans.find(\"/\")==-1:\n",
    "    ans+=\"/1\"\n",
    "ans"
   ]
  },
  {
   "cell_type": "code",
   "execution_count": 71,
   "metadata": {},
   "outputs": [
    {
     "data": {
      "text/plain": [
       "0.33"
      ]
     },
     "execution_count": 71,
     "metadata": {},
     "output_type": "execute_result"
    }
   ],
   "source": [
    "eval(a+\".\"+b[:2])"
   ]
  },
  {
   "cell_type": "code",
   "execution_count": 73,
   "metadata": {},
   "outputs": [
    {
     "data": {
      "text/plain": [
       "33"
      ]
     },
     "execution_count": 73,
     "metadata": {},
     "output_type": "execute_result"
    }
   ],
   "source": [
    "int(0.33 *100)"
   ]
  },
  {
   "cell_type": "code",
   "execution_count": null,
   "metadata": {},
   "outputs": [],
   "source": []
  },
  {
   "cell_type": "markdown",
   "metadata": {},
   "source": [
    "### 219. Contains Duplicate II"
   ]
  },
  {
   "cell_type": "raw",
   "metadata": {},
   "source": [
    "Given an integer array nums and an integer k, return true if there are two distinct indices i and j in the array such that nums[i] == nums[j] and abs(i - j) <= k."
   ]
  },
  {
   "cell_type": "raw",
   "metadata": {},
   "source": [
    "Example 1:\n",
    "\n",
    "Input: nums = [1,2,3,1], k = 3\n",
    "Output: true\n",
    "    \n",
    "    \n",
    "Example 2:\n",
    "\n",
    "Input: nums = [1,0,1,1], k = 1\n",
    "Output: true\n",
    "    \n",
    "    \n",
    "Example 3:\n",
    "\n",
    "Input: nums = [1,2,3,1,2,3], k = 2\n",
    "Output: false"
   ]
  },
  {
   "cell_type": "code",
   "execution_count": 155,
   "metadata": {},
   "outputs": [
    {
     "data": {
      "text/plain": [
       "[(1, 2)]"
      ]
     },
     "execution_count": 155,
     "metadata": {},
     "output_type": "execute_result"
    }
   ],
   "source": [
    "import collections\n",
    "nums = [1,2,3,1]\n",
    "# nums = [1,0,1,1]\n",
    "# nums = [1,2,3,1,2,3]\n",
    "c = [(key,value) for key, value in collections.Counter(nums).items() if value>1]\n",
    "c"
   ]
  },
  {
   "cell_type": "code",
   "execution_count": 156,
   "metadata": {},
   "outputs": [
    {
     "data": {
      "text/plain": [
       "[[0, 3]]"
      ]
     },
     "execution_count": 156,
     "metadata": {},
     "output_type": "execute_result"
    }
   ],
   "source": [
    "all_index = []\n",
    "for number, count in c:\n",
    "    index_list = []\n",
    "    poped_count = 0\n",
    "    for i in range(count):\n",
    "        index = nums.index(number)\n",
    "        nums.pop(index)\n",
    "        index_list.append(index+poped_count)\n",
    "        poped_count+=1\n",
    "    all_index.append(index_list)\n",
    "all_index"
   ]
  },
  {
   "cell_type": "code",
   "execution_count": 129,
   "metadata": {},
   "outputs": [],
   "source": [
    "k = 1\n",
    "def get_diff(l):\n",
    "    for i in range(len(l)):\n",
    "        if l[i]+k in l or l[i]-k in l:\n",
    "            return True\n",
    "    return False"
   ]
  },
  {
   "cell_type": "code",
   "execution_count": 150,
   "metadata": {},
   "outputs": [],
   "source": [
    "# def main(nums,k):\n",
    "#     c = [[key,value] for key, value in collections.Counter(nums).items() if value>1]\n",
    "#     print(c)\n",
    "    \n",
    "    \n",
    "#     for i in range(len(c)):\n",
    "#         number, count = c[i][0] ,c[i][1]\n",
    "#         index_list = []\n",
    "#         poped_count = 0\n",
    "#         for i in range(count):\n",
    "#             index = nums.index(number)\n",
    "#             print(index)\n",
    "#             print(k)\n",
    "#             print(\"\\n\")\n",
    "            \n",
    "#             if index+k in c[i] or index-k in c[i]:\n",
    "#                 return True\n",
    "#             nums.pop(index)\n",
    "#             index_list.append(index+poped_count)\n",
    "#             poped_count+=1\n",
    "#     return False\n"
   ]
  },
  {
   "cell_type": "code",
   "execution_count": 183,
   "metadata": {},
   "outputs": [],
   "source": [
    "def main(nums,k):\n",
    "    nums_copy = list(nums)\n",
    "    c = [[key,value] for key, value in collections.Counter(nums).items() if value>1]\n",
    "#     print(c)\n",
    "    for number, count in c:\n",
    "        nums = list(nums_copy)\n",
    "        index_list = []\n",
    "        poped_count = 0\n",
    "        for i in range(count):\n",
    "            index = nums.index(number)\n",
    "            nums.pop(index)\n",
    "            index_list.append(index+poped_count)\n",
    "            poped_count+=1\n",
    "\n",
    "        \n",
    "        index_list.sort(reverse = True)\n",
    "        print(index_list)\n",
    "        for i in range(len(index_list)-1):\n",
    "            if index_list[i]-index_list[i+1] <=k:\n",
    "                return True\n",
    "    return False\n",
    "        \n",
    "#         for i in range(len(index_list)):\n",
    "#             if index_list[i]+k in index_list or index_list[i]-k in index_list:\n",
    "#                 return True\n",
    "#         return False"
   ]
  },
  {
   "cell_type": "raw",
   "metadata": {},
   "source": [
    "nums = [1,2,3,1], k = 3 true\n",
    "nums = [1,0,1,1], k = 1 true\n",
    "nums = [1,2,3,1,2,3], k = 2 false"
   ]
  },
  {
   "cell_type": "code",
   "execution_count": 184,
   "metadata": {},
   "outputs": [
    {
     "name": "stdout",
     "output_type": "stream",
     "text": [
      "[3, 0]\n"
     ]
    },
    {
     "data": {
      "text/plain": [
       "True"
      ]
     },
     "execution_count": 184,
     "metadata": {},
     "output_type": "execute_result"
    }
   ],
   "source": [
    "main([1,2,3,1],3)"
   ]
  },
  {
   "cell_type": "code",
   "execution_count": 185,
   "metadata": {},
   "outputs": [
    {
     "name": "stdout",
     "output_type": "stream",
     "text": [
      "[3, 2, 0]\n"
     ]
    },
    {
     "data": {
      "text/plain": [
       "True"
      ]
     },
     "execution_count": 185,
     "metadata": {},
     "output_type": "execute_result"
    }
   ],
   "source": [
    "main([1,0,1,1],1)"
   ]
  },
  {
   "cell_type": "code",
   "execution_count": 186,
   "metadata": {},
   "outputs": [
    {
     "name": "stdout",
     "output_type": "stream",
     "text": [
      "[3, 0]\n",
      "[4, 1]\n",
      "[5, 2]\n"
     ]
    },
    {
     "data": {
      "text/plain": [
       "False"
      ]
     },
     "execution_count": 186,
     "metadata": {},
     "output_type": "execute_result"
    }
   ],
   "source": [
    "main([1,2,3,1,2,3],2)"
   ]
  },
  {
   "cell_type": "code",
   "execution_count": 187,
   "metadata": {},
   "outputs": [
    {
     "data": {
      "text/plain": [
       "[5, 3, 1, 0]"
      ]
     },
     "execution_count": 187,
     "metadata": {},
     "output_type": "execute_result"
    }
   ],
   "source": [
    "[5,3,1,0]"
   ]
  },
  {
   "cell_type": "code",
   "execution_count": null,
   "metadata": {},
   "outputs": [],
   "source": []
  },
  {
   "cell_type": "code",
   "execution_count": 163,
   "metadata": {},
   "outputs": [],
   "source": [
    "nums = [1,2,3,1,2,3]"
   ]
  },
  {
   "cell_type": "code",
   "execution_count": null,
   "metadata": {},
   "outputs": [],
   "source": []
  },
  {
   "cell_type": "code",
   "execution_count": null,
   "metadata": {},
   "outputs": [],
   "source": []
  },
  {
   "cell_type": "markdown",
   "metadata": {},
   "source": [
    "### 451. Sort Characters By Frequency"
   ]
  },
  {
   "cell_type": "raw",
   "metadata": {},
   "source": [
    "Given a string, sort it in decreasing order based on the frequency of characters."
   ]
  },
  {
   "cell_type": "raw",
   "metadata": {},
   "source": [
    "Example 1:\n",
    "\n",
    "Input:\n",
    "\"tree\"\n",
    "\n",
    "Output:\n",
    "\"eert\"\n",
    "\n",
    "Explanation:\n",
    "'e' appears twice while 'r' and 't' both appear once.\n",
    "So 'e' must appear before both 'r' and 't'. Therefore \"eetr\" is also a valid answer.\n",
    "\n",
    "\n",
    "\n",
    "\n",
    "\n",
    "Example 2:\n",
    "\n",
    "Input:\n",
    "\"cccaaa\"\n",
    "\n",
    "Output:\n",
    "\"cccaaa\"\n",
    "\n",
    "Explanation:\n",
    "Both 'c' and 'a' appear three times, so \"aaaccc\" is also a valid answer.\n",
    "Note that \"cacaca\" is incorrect, as the same characters must be together.\n",
    "\n",
    "\n",
    "\n",
    "\n",
    "\n",
    "\n",
    "Example 3:\n",
    "\n",
    "Input:\n",
    "\"Aabb\"\n",
    "\n",
    "Output:\n",
    "\"bbAa\"\n",
    "\n",
    "Explanation:\n",
    "\"bbaA\" is also a valid answer, but \"Aabb\" is incorrect.\n",
    "Note that 'A' and 'a' are treated as two different characters."
   ]
  },
  {
   "cell_type": "code",
   "execution_count": 198,
   "metadata": {},
   "outputs": [
    {
     "data": {
      "text/plain": [
       "['t', 'r', 'e', 'e']"
      ]
     },
     "execution_count": 198,
     "metadata": {},
     "output_type": "execute_result"
    }
   ],
   "source": [
    "s = \"tree\"\n",
    "s = list(s)\n",
    "s"
   ]
  },
  {
   "cell_type": "code",
   "execution_count": 200,
   "metadata": {},
   "outputs": [
    {
     "data": {
      "text/plain": [
       "'eetr'"
      ]
     },
     "execution_count": 200,
     "metadata": {},
     "output_type": "execute_result"
    }
   ],
   "source": [
    "import collections\n",
    "l = list(collections.Counter(s).items())\n",
    "l.sort(key = lambda x:x[1], reverse = True)\n",
    "s = \"\"\n",
    "for element, count in l:\n",
    "    s+=element*count\n",
    "s"
   ]
  },
  {
   "cell_type": "code",
   "execution_count": null,
   "metadata": {},
   "outputs": [],
   "source": []
  },
  {
   "cell_type": "markdown",
   "metadata": {},
   "source": [
    "### TCS Transform word"
   ]
  },
  {
   "cell_type": "raw",
   "metadata": {},
   "source": [
    "Find no of ways to transform wrong word into right \n",
    "\n",
    "Eg 1\n",
    "Input :\n",
    "Indiiian - Wrong word\n",
    "Indian   - Correct\n",
    "Output:\n",
    "3\n",
    "Exp: Indi..an , Ind.i.an, Ind..ian\n",
    "\n",
    "\n",
    "Eg 2\n",
    "ggoog\n",
    "go\n",
    "\n",
    "4\n",
    "Exp: g.o.., g..o., .go.. , .g.o..\n",
    "\n",
    "\n",
    "Eg 3\n",
    "indian\n",
    "indian\n",
    "\n",
    "0"
   ]
  },
  {
   "cell_type": "code",
   "execution_count": 37,
   "metadata": {},
   "outputs": [],
   "source": [
    "# wrong   = \"Indiiian\"\n",
    "# correct = \"Indian\"\n",
    "\n",
    "wrong   = \"ggoog\"\n",
    "correct = \"go\""
   ]
  },
  {
   "cell_type": "code",
   "execution_count": null,
   "metadata": {},
   "outputs": [],
   "source": [
    "[0,0,0,0,0]\n",
    " 1   1\n",
    " 1     1\n",
    "   1 1   \n",
    "   1  1"
   ]
  },
  {
   "cell_type": "code",
   "execution_count": 3,
   "metadata": {},
   "outputs": [
    {
     "data": {
      "text/plain": [
       "[0, 0, 0, 0, 0]"
      ]
     },
     "execution_count": 3,
     "metadata": {},
     "output_type": "execute_result"
    }
   ],
   "source": [
    "[0]*len(wrong)"
   ]
  },
  {
   "cell_type": "code",
   "execution_count": 4,
   "metadata": {},
   "outputs": [
    {
     "data": {
      "text/plain": [
       "5"
      ]
     },
     "execution_count": 4,
     "metadata": {},
     "output_type": "execute_result"
    }
   ],
   "source": [
    "len(wrong)"
   ]
  },
  {
   "cell_type": "code",
   "execution_count": 45,
   "metadata": {},
   "outputs": [
    {
     "data": {
      "text/plain": [
       "5"
      ]
     },
     "execution_count": 45,
     "metadata": {},
     "output_type": "execute_result"
    }
   ],
   "source": [
    "import itertools\n",
    "len(wrong)"
   ]
  },
  {
   "cell_type": "code",
   "execution_count": 41,
   "metadata": {},
   "outputs": [
    {
     "data": {
      "text/plain": [
       "[[0, 0, 0, 0, 0],\n",
       " [0, 0, 0, 0, 1],\n",
       " [0, 0, 0, 1, 0],\n",
       " [0, 0, 0, 1, 1],\n",
       " [0, 0, 1, 0, 0],\n",
       " [0, 0, 1, 0, 1],\n",
       " [0, 0, 1, 1, 0],\n",
       " [0, 0, 1, 1, 1],\n",
       " [0, 1, 0, 0, 0],\n",
       " [0, 1, 0, 0, 1],\n",
       " [0, 1, 0, 1, 0],\n",
       " [0, 1, 0, 1, 1],\n",
       " [0, 1, 1, 0, 0],\n",
       " [0, 1, 1, 0, 1],\n",
       " [0, 1, 1, 1, 0],\n",
       " [0, 1, 1, 1, 1],\n",
       " [1, 0, 0, 0, 0],\n",
       " [1, 0, 0, 0, 1],\n",
       " [1, 0, 0, 1, 0],\n",
       " [1, 0, 0, 1, 1],\n",
       " [1, 0, 1, 0, 0],\n",
       " [1, 0, 1, 0, 1],\n",
       " [1, 0, 1, 1, 0],\n",
       " [1, 0, 1, 1, 1],\n",
       " [1, 1, 0, 0, 0],\n",
       " [1, 1, 0, 0, 1],\n",
       " [1, 1, 0, 1, 0],\n",
       " [1, 1, 0, 1, 1],\n",
       " [1, 1, 1, 0, 0],\n",
       " [1, 1, 1, 0, 1],\n",
       " [1, 1, 1, 1, 0],\n",
       " [1, 1, 1, 1, 1]]"
      ]
     },
     "execution_count": 41,
     "metadata": {},
     "output_type": "execute_result"
    }
   ],
   "source": [
    "all_index = [list(i) for i in list(itertools.product(*[[0,1]]*len(wrong)))]\n",
    "all_index"
   ]
  },
  {
   "cell_type": "code",
   "execution_count": 42,
   "metadata": {},
   "outputs": [
    {
     "data": {
      "text/plain": [
       "[['', '', '', '', ''],\n",
       " ['', '', '', '', 'g'],\n",
       " ['', '', '', 'o', ''],\n",
       " ['', '', '', 'o', 'g'],\n",
       " ['', '', 'o', '', ''],\n",
       " ['', '', 'o', '', 'g'],\n",
       " ['', '', 'o', 'o', ''],\n",
       " ['', '', 'o', 'o', 'g'],\n",
       " ['', 'g', '', '', ''],\n",
       " ['', 'g', '', '', 'g'],\n",
       " ['', 'g', '', 'o', ''],\n",
       " ['', 'g', '', 'o', 'g'],\n",
       " ['', 'g', 'o', '', ''],\n",
       " ['', 'g', 'o', '', 'g'],\n",
       " ['', 'g', 'o', 'o', ''],\n",
       " ['', 'g', 'o', 'o', 'g'],\n",
       " ['g', '', '', '', ''],\n",
       " ['g', '', '', '', 'g'],\n",
       " ['g', '', '', 'o', ''],\n",
       " ['g', '', '', 'o', 'g'],\n",
       " ['g', '', 'o', '', ''],\n",
       " ['g', '', 'o', '', 'g'],\n",
       " ['g', '', 'o', 'o', ''],\n",
       " ['g', '', 'o', 'o', 'g'],\n",
       " ['g', 'g', '', '', ''],\n",
       " ['g', 'g', '', '', 'g'],\n",
       " ['g', 'g', '', 'o', ''],\n",
       " ['g', 'g', '', 'o', 'g'],\n",
       " ['g', 'g', 'o', '', ''],\n",
       " ['g', 'g', 'o', '', 'g'],\n",
       " ['g', 'g', 'o', 'o', ''],\n",
       " ['g', 'g', 'o', 'o', 'g']]"
      ]
     },
     "execution_count": 42,
     "metadata": {},
     "output_type": "execute_result"
    }
   ],
   "source": [
    "for i in range(len(all_index)):\n",
    "    for j in range(len(all_index[i])):\n",
    "        if all_index[i][j] ==1:\n",
    "            all_index[i][j] = wrong[j]\n",
    "        else:\n",
    "            all_index[i][j] = \"\"\n",
    "all_index"
   ]
  },
  {
   "cell_type": "code",
   "execution_count": 43,
   "metadata": {},
   "outputs": [
    {
     "data": {
      "text/plain": [
       "['',\n",
       " 'g',\n",
       " 'o',\n",
       " 'og',\n",
       " 'o',\n",
       " 'og',\n",
       " 'oo',\n",
       " 'oog',\n",
       " 'g',\n",
       " 'gg',\n",
       " 'go',\n",
       " 'gog',\n",
       " 'go',\n",
       " 'gog',\n",
       " 'goo',\n",
       " 'goog',\n",
       " 'g',\n",
       " 'gg',\n",
       " 'go',\n",
       " 'gog',\n",
       " 'go',\n",
       " 'gog',\n",
       " 'goo',\n",
       " 'goog',\n",
       " 'gg',\n",
       " 'ggg',\n",
       " 'ggo',\n",
       " 'ggog',\n",
       " 'ggo',\n",
       " 'ggog',\n",
       " 'ggoo',\n",
       " 'ggoog']"
      ]
     },
     "execution_count": 43,
     "metadata": {},
     "output_type": "execute_result"
    }
   ],
   "source": [
    "for i in range(len(all_index)):\n",
    "    all_index[i] = \"\".join(all_index[i])\n",
    "all_index"
   ]
  },
  {
   "cell_type": "code",
   "execution_count": 44,
   "metadata": {},
   "outputs": [
    {
     "data": {
      "text/plain": [
       "4"
      ]
     },
     "execution_count": 44,
     "metadata": {},
     "output_type": "execute_result"
    }
   ],
   "source": [
    "all_index.count(correct)"
   ]
  },
  {
   "cell_type": "code",
   "execution_count": null,
   "metadata": {},
   "outputs": [],
   "source": []
  },
  {
   "cell_type": "code",
   "execution_count": 15,
   "metadata": {},
   "outputs": [
    {
     "data": {
      "text/plain": [
       "['g', 'g', 'o', 'o', 'g']"
      ]
     },
     "execution_count": 15,
     "metadata": {},
     "output_type": "execute_result"
    }
   ],
   "source": [
    "wrong = list(wrong)\n",
    "wrong"
   ]
  },
  {
   "cell_type": "code",
   "execution_count": 23,
   "metadata": {},
   "outputs": [
    {
     "data": {
      "text/plain": [
       "['',\n",
       " 'g',\n",
       " 'o',\n",
       " 'og',\n",
       " 'o',\n",
       " 'og',\n",
       " 'oo',\n",
       " 'oog',\n",
       " 'g',\n",
       " 'gg',\n",
       " 'go',\n",
       " 'gog',\n",
       " 'go',\n",
       " 'gog',\n",
       " 'goo',\n",
       " 'goog',\n",
       " 'g',\n",
       " 'gg',\n",
       " 'go',\n",
       " 'gog',\n",
       " 'go',\n",
       " 'gog',\n",
       " 'goo',\n",
       " 'goog',\n",
       " 'gg',\n",
       " 'ggg',\n",
       " 'ggo',\n",
       " 'ggog',\n",
       " 'ggo',\n",
       " 'ggog',\n",
       " 'ggoo',\n",
       " 'ggoog']"
      ]
     },
     "execution_count": 23,
     "metadata": {},
     "output_type": "execute_result"
    }
   ],
   "source": [
    "all_index = [list(i) for i in list(itertools.product(*[[0,1]]*len(wrong)))]\n",
    "for i in range(len(all_index)):\n",
    "    for j in range(len(all_index[i])):\n",
    "        if all_index[i][j] ==1:\n",
    "            all_index[i][j] = wrong[j]\n",
    "        else:\n",
    "            all_index[i][j] = \"\"\n",
    "    all_index[i] = \"\".join(all_index[i])\n",
    "all_index"
   ]
  },
  {
   "cell_type": "code",
   "execution_count": 24,
   "metadata": {},
   "outputs": [
    {
     "data": {
      "text/plain": [
       "4"
      ]
     },
     "execution_count": 24,
     "metadata": {},
     "output_type": "execute_result"
    }
   ],
   "source": []
  },
  {
   "cell_type": "code",
   "execution_count": 25,
   "metadata": {},
   "outputs": [
    {
     "data": {
      "text/plain": [
       "32"
      ]
     },
     "execution_count": 25,
     "metadata": {},
     "output_type": "execute_result"
    }
   ],
   "source": [
    "len(all_index)"
   ]
  },
  {
   "cell_type": "code",
   "execution_count": 26,
   "metadata": {},
   "outputs": [],
   "source": [
    "def count(wrong,correct):\n",
    "    import itertools\n",
    "    wrong = list(wrong)\n",
    "    \n",
    "    all_index = [list(i) for i in list(itertools.product(*[[0,1]]*len(wrong)))]\n",
    "    for i in range(len(all_index)):\n",
    "        for j in range(len(all_index[i])):\n",
    "            if all_index[i][j] ==1:\n",
    "                all_index[i][j] = wrong[j]\n",
    "            else:\n",
    "                all_index[i][j] = \"\"\n",
    "        all_index[i] = \"\".join(all_index[i])\n",
    "    return all_index.count(correct)"
   ]
  },
  {
   "cell_type": "code",
   "execution_count": 49,
   "metadata": {},
   "outputs": [
    {
     "data": {
      "text/plain": [
       "4"
      ]
     },
     "execution_count": 49,
     "metadata": {},
     "output_type": "execute_result"
    }
   ],
   "source": [
    "wrong   = \"ggoog\"\n",
    "correct = \"go\"\n",
    "count(wrong,correct)"
   ]
  },
  {
   "cell_type": "code",
   "execution_count": 50,
   "metadata": {},
   "outputs": [
    {
     "data": {
      "text/plain": [
       "3"
      ]
     },
     "execution_count": 50,
     "metadata": {},
     "output_type": "execute_result"
    }
   ],
   "source": [
    "wrong   = \"Indiiian\"\n",
    "correct = \"Indian\"\n",
    "count(wrong,correct)"
   ]
  },
  {
   "cell_type": "markdown",
   "metadata": {},
   "source": [
    "###### DP soln"
   ]
  },
  {
   "cell_type": "code",
   "execution_count": 25,
   "metadata": {},
   "outputs": [],
   "source": [
    "wrong   = \"Indiiian\"\n",
    "correct = \"Indian\"\n",
    "\n",
    "wrong   = \"ggoog\"\n",
    "correct = \"go\""
   ]
  },
  {
   "cell_type": "code",
   "execution_count": 26,
   "metadata": {},
   "outputs": [
    {
     "data": {
      "text/plain": [
       "[[1, 1, 1, 1, 1], [0, 0, 0, 0, 0]]"
      ]
     },
     "execution_count": 26,
     "metadata": {},
     "output_type": "execute_result"
    }
   ],
   "source": [
    "temp =  [[0]*len(wrong) for i in range(len(correct))]\n",
    "for j in range(len(temp[0])):\n",
    "    temp[0][j] = 1\n",
    "temp"
   ]
  },
  {
   "cell_type": "code",
   "execution_count": 27,
   "metadata": {},
   "outputs": [
    {
     "data": {
      "text/plain": [
       "[[1, 1, 1, 1, 1], [0, 1, 2, 2, 2]]"
      ]
     },
     "execution_count": 27,
     "metadata": {},
     "output_type": "execute_result"
    }
   ],
   "source": [
    "for i in range(1,len(temp)):\n",
    "    for j in range(1,len(temp[0])):\n",
    "        if wrong[j-1] == correct[i-1]:\n",
    "            temp[i][j] = temp[i][j-1] + temp[i-1][j-1]\n",
    "        else:\n",
    "            temp[i][j] = temp[i][j-1]\n",
    "temp"
   ]
  },
  {
   "cell_type": "code",
   "execution_count": null,
   "metadata": {},
   "outputs": [],
   "source": []
  },
  {
   "cell_type": "markdown",
   "metadata": {},
   "source": [
    "### TCS Sum of all char"
   ]
  },
  {
   "cell_type": "code",
   "execution_count": 45,
   "metadata": {},
   "outputs": [],
   "source": [
    "s = \"321\""
   ]
  },
  {
   "cell_type": "code",
   "execution_count": 47,
   "metadata": {},
   "outputs": [
    {
     "name": "stdout",
     "output_type": "stream",
     "text": [
      "[3, 2, 1, 32, 21, 321]\n"
     ]
    },
    {
     "data": {
      "text/plain": [
       "380"
      ]
     },
     "execution_count": 47,
     "metadata": {},
     "output_type": "execute_result"
    }
   ],
   "source": [
    "from itertools import combinations\n",
    "all_char = []\n",
    "for i in range(1,len(s)+1):\n",
    "    all_char += [int(\"\".join(i)) for i in list(combinations(s,i)) if s.find(\"\".join(i)) != -1]\n",
    "print(all_char)\n",
    "sum(all_char)"
   ]
  },
  {
   "cell_type": "code",
   "execution_count": null,
   "metadata": {},
   "outputs": [],
   "source": []
  }
 ],
 "metadata": {
  "kernelspec": {
   "display_name": "Python 3",
   "language": "python",
   "name": "python3"
  },
  "language_info": {
   "codemirror_mode": {
    "name": "ipython",
    "version": 3
   },
   "file_extension": ".py",
   "mimetype": "text/x-python",
   "name": "python",
   "nbconvert_exporter": "python",
   "pygments_lexer": "ipython3",
   "version": "3.7.4"
  }
 },
 "nbformat": 4,
 "nbformat_minor": 2
}
